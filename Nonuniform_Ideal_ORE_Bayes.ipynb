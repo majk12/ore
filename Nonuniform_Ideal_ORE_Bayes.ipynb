{
 "cells": [
  {
   "cell_type": "markdown",
   "metadata": {},
   "source": [
    "# Ideal ORE, Non-uniform\n",
    "## Bayes Vulnerability"
   ]
  },
  {
   "cell_type": "code",
   "execution_count": 1,
   "metadata": {},
   "outputs": [
    {
     "name": "stderr",
     "output_type": "stream",
     "text": [
      "\n",
      "Bad key text.latex.unicode in file C:\\Users\\mirey\\AppData\\Local\\Continuum\\anaconda3\\lib\\site-packages\\matplotlib\\mpl-data\\stylelib\\_classic_test.mplstyle, line 112 ('text.latex.unicode : False # use \"ucs\" and \"inputenc\" LaTeX packages for handling')\n",
      "You probably need to get an updated matplotlibrc file from\n",
      "https://github.com/matplotlib/matplotlib/blob/v3.3.2/matplotlibrc.template\n",
      "or from the matplotlib source distribution\n",
      "\n",
      "Bad key savefig.frameon in file C:\\Users\\mirey\\AppData\\Local\\Continuum\\anaconda3\\lib\\site-packages\\matplotlib\\mpl-data\\stylelib\\_classic_test.mplstyle, line 423 ('savefig.frameon : True')\n",
      "You probably need to get an updated matplotlibrc file from\n",
      "https://github.com/matplotlib/matplotlib/blob/v3.3.2/matplotlibrc.template\n",
      "or from the matplotlib source distribution\n",
      "\n",
      "Bad key pgf.debug in file C:\\Users\\mirey\\AppData\\Local\\Continuum\\anaconda3\\lib\\site-packages\\matplotlib\\mpl-data\\stylelib\\_classic_test.mplstyle, line 444 ('pgf.debug           : False')\n",
      "You probably need to get an updated matplotlibrc file from\n",
      "https://github.com/matplotlib/matplotlib/blob/v3.3.2/matplotlibrc.template\n",
      "or from the matplotlib source distribution\n",
      "\n",
      "Bad key verbose.level in file C:\\Users\\mirey\\AppData\\Local\\Continuum\\anaconda3\\lib\\site-packages\\matplotlib\\mpl-data\\stylelib\\_classic_test.mplstyle, line 475 ('verbose.level  : silent      # one of silent, helpful, debug, debug-annoying')\n",
      "You probably need to get an updated matplotlibrc file from\n",
      "https://github.com/matplotlib/matplotlib/blob/v3.3.2/matplotlibrc.template\n",
      "or from the matplotlib source distribution\n",
      "\n",
      "Bad key verbose.fileo in file C:\\Users\\mirey\\AppData\\Local\\Continuum\\anaconda3\\lib\\site-packages\\matplotlib\\mpl-data\\stylelib\\_classic_test.mplstyle, line 476 ('verbose.fileo  : sys.stdout  # a log filename, sys.stdout or sys.stderr')\n",
      "You probably need to get an updated matplotlibrc file from\n",
      "https://github.com/matplotlib/matplotlib/blob/v3.3.2/matplotlibrc.template\n",
      "or from the matplotlib source distribution\n",
      "In C:\\Users\\mirey\\AppData\\Local\\Continuum\\anaconda3\\lib\\site-packages\\matplotlib\\mpl-data\\stylelib\\_classic_test.mplstyle: \n",
      "The text.latex.preview rcparam was deprecated in Matplotlib 3.3 and will be removed two minor releases later.\n",
      "In C:\\Users\\mirey\\AppData\\Local\\Continuum\\anaconda3\\lib\\site-packages\\matplotlib\\mpl-data\\stylelib\\_classic_test.mplstyle: \n",
      "The mathtext.fallback_to_cm rcparam was deprecated in Matplotlib 3.3 and will be removed two minor releases later.\n",
      "In C:\\Users\\mirey\\AppData\\Local\\Continuum\\anaconda3\\lib\\site-packages\\matplotlib\\mpl-data\\stylelib\\_classic_test.mplstyle: Support for setting the 'mathtext.fallback_to_cm' rcParam is deprecated since 3.3 and will be removed two minor releases later; use 'mathtext.fallback : 'cm' instead.\n",
      "In C:\\Users\\mirey\\AppData\\Local\\Continuum\\anaconda3\\lib\\site-packages\\matplotlib\\mpl-data\\stylelib\\_classic_test.mplstyle: \n",
      "The validate_bool_maybe_none function was deprecated in Matplotlib 3.3 and will be removed two minor releases later.\n",
      "In C:\\Users\\mirey\\AppData\\Local\\Continuum\\anaconda3\\lib\\site-packages\\matplotlib\\mpl-data\\stylelib\\_classic_test.mplstyle: \n",
      "The savefig.jpeg_quality rcparam was deprecated in Matplotlib 3.3 and will be removed two minor releases later.\n",
      "In C:\\Users\\mirey\\AppData\\Local\\Continuum\\anaconda3\\lib\\site-packages\\matplotlib\\mpl-data\\stylelib\\_classic_test.mplstyle: \n",
      "The keymap.all_axes rcparam was deprecated in Matplotlib 3.3 and will be removed two minor releases later.\n",
      "In C:\\Users\\mirey\\AppData\\Local\\Continuum\\anaconda3\\lib\\site-packages\\matplotlib\\mpl-data\\stylelib\\_classic_test.mplstyle: \n",
      "The animation.avconv_path rcparam was deprecated in Matplotlib 3.3 and will be removed two minor releases later.\n",
      "In C:\\Users\\mirey\\AppData\\Local\\Continuum\\anaconda3\\lib\\site-packages\\matplotlib\\mpl-data\\stylelib\\_classic_test.mplstyle: \n",
      "The animation.avconv_args rcparam was deprecated in Matplotlib 3.3 and will be removed two minor releases later.\n"
     ]
    }
   ],
   "source": [
    "import collections\n",
    "import math\n",
    "import numpy as np\n",
    "import pandas as pd\n",
    "from scipy.special import perm, comb # for nPk\n",
    "from itertools import combinations\n",
    "from sympy.utilities.iterables import partitions, variations, multiset_permutations\n",
    "from sympy.functions.combinatorial.numbers import stirling\n",
    "from decimal import Decimal\n",
    "import matplotlib.pyplot as plt \n",
    "pd.set_option('precision', 10)\n",
    "%matplotlib inline"
   ]
  },
  {
   "cell_type": "markdown",
   "metadata": {},
   "source": [
    "uni_ore_bayes(n, k) \n",
    "- included for reference \n",
    "$$ V_1 [C \\triangleright \\pi ]  =  \\frac{\\sum_{i=1}^{min(n, k)} \\text{stirling2}(n, i)\\times i!}{k^n}  $$"
   ]
  },
  {
   "cell_type": "code",
   "execution_count": 11,
   "metadata": {},
   "outputs": [],
   "source": [
    "def uni_ore_bayes(n, k):\n",
    "    outputs = 0\n",
    "    for c in range(n):\n",
    "        if k < c+1:\n",
    "            break\n",
    "        outputs = outputs + (stirling(n, c+1) * math.factorial(c+1))\n",
    "    inputs = pow(k, n)\n",
    "    return outputs / inputs"
   ]
  },
  {
   "cell_type": "markdown",
   "metadata": {},
   "source": [
    "int_part_to_list(p) takes integer partition as input and outputs a list representation.\n",
    "\n",
    "Ex:\n",
    "```python\n",
    "p = {3:1, 2:2, 1:3}\n",
    "p_list = [3, 2, 2, 1, 1, 1]\n",
    "```"
   ]
  },
  {
   "cell_type": "code",
   "execution_count": 3,
   "metadata": {},
   "outputs": [],
   "source": [
    "def int_part_to_list(p):\n",
    "    p_list = []\n",
    "    for key in p.keys():\n",
    "        for v in range(p[key]):\n",
    "            p_list.append(key)\n",
    "    return p_list"
   ]
  },
  {
   "cell_type": "markdown",
   "metadata": {},
   "source": [
    "ore_calc_max_prob(msp, Pi) takes the multiset_permutation as output by multiset_permutation(p_list) and the prior Pi and outputs the maximum probability for that group of columns\n",
    "\n",
    "Currently, done with brute force, calculating the nCk number of cases and finding the max probability where k = the number of blocks"
   ]
  },
  {
   "cell_type": "code",
   "execution_count": 4,
   "metadata": {},
   "outputs": [],
   "source": [
    "def ore_calc_max_prob(msp, Pi):\n",
    "    k = len(msp)\n",
    "    max_prob = 0\n",
    "    for i in combinations(Pi, k): # for all nCk cases, determine what the probability would be\n",
    "        prob = 1\n",
    "        term = 1\n",
    "        for x in range(len(msp)):\n",
    "            term = pow(i[x], msp[x]) # msp pow will be the same, but pi will not be. \n",
    "            prob = prob * term\n",
    "        if prob > max_prob:\n",
    "            max_prob = prob\n",
    "        #candidate_probabilities.append(prob) # add to list\n",
    "    return max_prob\n",
    "#max(candidate_probabilities) # return max"
   ]
  },
  {
   "cell_type": "code",
   "execution_count": 5,
   "metadata": {},
   "outputs": [
    {
     "data": {
      "text/plain": [
       "0.0078125"
      ]
     },
     "execution_count": 5,
     "metadata": {},
     "output_type": "execute_result"
    }
   ],
   "source": [
    "msp = [1,2,1]\n",
    "Pi = [1/8, 1/4, 1/2, 1/8]\n",
    "ore_calc_max_prob(msp, Pi)"
   ]
  },
  {
   "cell_type": "markdown",
   "metadata": {},
   "source": [
    "ore_calc_set_partitions(n,p) takes n and the integer partition and outputs how many columns correspond to this case\n",
    "\n",
    "$$ \\frac{n!}{\\prod_{i} (i ! ) ^ \\text{multipilicity}} $$ where $i$ is an integer in the integer partition\n",
    "\n",
    "Ex: \n",
    "```python\n",
    "n = 4, p = {2:2}\n",
    "sp = 6\n",
    "```"
   ]
  },
  {
   "cell_type": "code",
   "execution_count": 6,
   "metadata": {},
   "outputs": [],
   "source": [
    "def ore_calc_set_partitions(n,p):\n",
    "    num = math.factorial(n) # numerator is all blocks!\n",
    "    den = 1\n",
    "    for i in p.keys():\n",
    "        den = den * math.pow(math.factorial(i), p[i])\n",
    "    sp = num / den\n",
    "    return sp"
   ]
  },
  {
   "cell_type": "markdown",
   "metadata": {},
   "source": [
    "nonuni_ideal_ore_post_bayes(n, k, Pi) takes n, k, and Pi and calculates the posterior Bayes vulnerability "
   ]
  },
  {
   "cell_type": "code",
   "execution_count": 7,
   "metadata": {},
   "outputs": [],
   "source": [
    "def nonuni_ideal_ore_post_bayes(n, k, Pi):\n",
    "    pbvsum = 0\n",
    "    for p in partitions(n, m=k):\n",
    "        #print(\"p: \", p)\n",
    "        p_list = int_part_to_list(p) # turn to list\n",
    "        #print(\"p_list: \", p_list)\n",
    "        c = ore_calc_set_partitions(n,p)\n",
    "        #print(\"c: \", c)\n",
    "        insum = 0\n",
    "        for msp in multiset_permutations(p_list): # for all multiset partitions,\n",
    "            #print(\"msp: \", msp)\n",
    "            prob = 0\n",
    "            prob = ore_calc_max_prob(msp, Pi) # find probability for case\n",
    "            #print(\"case prob: \", prob)\n",
    "            val = c * prob # multipy by probability\n",
    "            #print(\"total contribution: \", val)\n",
    "            insum = insum + val\n",
    "        pbvsum = pbvsum + insum # add to running sum\n",
    "    return pbvsum"
   ]
  },
  {
   "cell_type": "code",
   "execution_count": 62,
   "metadata": {},
   "outputs": [
    {
     "name": "stdout",
     "output_type": "stream",
     "text": [
      "p:  {3: 1}\n",
      "p_list:  [3]\n",
      "c:  1.0\n",
      "msp:  [3]\n",
      "case prob:  0.125\n",
      "total contribution:  0.125\n",
      "p:  {2: 1, 1: 1}\n",
      "p_list:  [2, 1]\n",
      "c:  3.0\n",
      "msp:  [1, 2]\n",
      "case prob:  0.03125\n",
      "total contribution:  0.09375\n",
      "msp:  [2, 1]\n",
      "case prob:  0.0625\n",
      "total contribution:  0.1875\n",
      "p:  {1: 3}\n",
      "p_list:  [1, 1, 1]\n",
      "c:  6.0\n",
      "msp:  [1, 1, 1]\n",
      "case prob:  0.015625\n",
      "total contribution:  0.09375\n",
      "0.5\n"
     ]
    }
   ],
   "source": [
    "n = 3\n",
    "k = 4\n",
    "probs_top = [1/2, 1/4, 1/8, 1/8]\n",
    "print(nonuni_ideal_ore_post_bayes(n, k, probs_top))"
   ]
  },
  {
   "cell_type": "markdown",
   "metadata": {},
   "source": [
    "n = 3, k = 3 [1/2, 1/3, 1/6], the posterior Bayes vulnerability is 17/24 ~ 0.70833"
   ]
  },
  {
   "cell_type": "code",
   "execution_count": 227,
   "metadata": {},
   "outputs": [
    {
     "name": "stdout",
     "output_type": "stream",
     "text": [
      "First two values should be the same.\n",
      "****Uniform, uniform function:  0.481481481481481\n",
      "****Uniform, generic funciton:  0.48148148148148145\n",
      "Should be ~0.708\n",
      "****Nonuniform, generic function:  0.7083333333333333\n"
     ]
    }
   ],
   "source": [
    "n = 3\n",
    "k = 3\n",
    "probs = [1/2, 1/3, 1/6]\n",
    "uni_probs = [1/3, 1/3, 1/3]\n",
    "print(\"First two values should be the same.\")\n",
    "print(\"****Uniform, uniform function: \", uni_ore_bayes(n, k))\n",
    "print(\"****Uniform, generic funciton: \", nonuni_ideal_ore_post_bayes(n, k, uni_probs))\n",
    "print(\"Should be ~0.708\")\n",
    "print(\"****Nonuniform, generic function: \", nonuni_ideal_ore_post_bayes(n, k, probs))"
   ]
  },
  {
   "cell_type": "markdown",
   "metadata": {},
   "source": [
    "Expected output of block:\n",
    "- First two values should be the same.\n",
    "- ****Uniform, uniform function:  0.292968750000000\n",
    "- ****Uniform, generic funciton:  0.29296875\n",
    "- ****Nonuniform, generic function:  0.5234375\n",
    " - 67/128\n",
    "- ****Nonuniform, generic function, weight in middle:  0.625\n",
    " - 5/8"
   ]
  },
  {
   "cell_type": "code",
   "execution_count": 55,
   "metadata": {},
   "outputs": [
    {
     "name": "stdout",
     "output_type": "stream",
     "text": [
      "First two values should be the same.\n",
      "****Uniform, uniform function:  0.292968750000000\n",
      "****Uniform, generic funciton:  0.29296875\n",
      "****Nonuniform, generic function, weight in front:  0.5234375\n",
      "****Nonuniform, generic function, weight in middle:  0.625\n"
     ]
    }
   ],
   "source": [
    "n = 4\n",
    "k = 4\n",
    "probs_top = [1/2, 1/4, 1/8, 1/8]\n",
    "probs_middle = [1/8, 1/4, 1/2, 1/8]\n",
    "uni_probs = [1/4, 1/4, 1/4, 1/4]\n",
    "print(\"First two values should be the same.\")\n",
    "print(\"****Uniform, uniform function: \", uni_ore_bayes(n, k))\n",
    "print(\"****Uniform, generic funciton: \", nonuni_ideal_ore_post_bayes(n, k, uni_probs))\n",
    "print(\"****Nonuniform, generic function, weight in front: \", nonuni_ideal_ore_post_bayes(n, k, probs_top))\n",
    "print(\"****Nonuniform, generic function, weight in middle: \", nonuni_ideal_ore_post_bayes(n, k, probs_middle))"
   ]
  },
  {
   "cell_type": "code",
   "execution_count": 10,
   "metadata": {},
   "outputs": [
    {
     "name": "stdout",
     "output_type": "stream",
     "text": [
      "First two values should be the same.\n",
      "outputs:  75\n",
      "in:  14641\n",
      "****Uniform, uniform function:  75/14641\n",
      "****Uniform, generic funciton:  0.005122600915238031\n",
      "****Nonuniform, generic function, weight in front:  0.10200000000000001\n",
      "****Nonuniform, generic function, weight in middle:  0.14025\n"
     ]
    }
   ],
   "source": [
    "n = 4\n",
    "k = 11\n",
    "probs_top = [1/2, 1/20, 1/20, 1/20, 1/20, 1/20,1/20, 1/20, 1/20, 1/20, 1/20,]\n",
    "probs_middle = [1/20, 1/20, 1/20, 1/20, 1/20, 1/2, 1/20, 1/20, 1/20, 1/20, 1/20,]\n",
    "uni_probs = [1/11, 1/11, 1/11, 1/11]\n",
    "print(\"First two values should be the same.\")\n",
    "print(\"****Uniform, uniform function: \", uni_ore_bayes(n, k))\n",
    "print(\"****Uniform, generic funciton: \", nonuni_ideal_ore_post_bayes(n, k, uni_probs))\n",
    "print(\"****Nonuniform, generic function, weight in front: \", nonuni_ideal_ore_post_bayes(n, k, probs_top))\n",
    "print(\"****Nonuniform, generic function, weight in middle: \", nonuni_ideal_ore_post_bayes(n, k, probs_middle))"
   ]
  },
  {
   "cell_type": "code",
   "execution_count": 22,
   "metadata": {},
   "outputs": [],
   "source": [
    "def movemass(n, k):\n",
    "    #probabilities\n",
    "    p0 = [1/2, 1/20, 1/20, 1/20, 1/20, 1/20, 1/20, 1/20, 1/20, 1/20, 1/20]\n",
    "    p1 = [1/20, 1/2, 1/20, 1/20, 1/20, 1/20, 1/20, 1/20, 1/20, 1/20, 1/20]\n",
    "    p2 = [1/20, 1/20, 1/2, 1/20, 1/20, 1/20, 1/20, 1/20, 1/20, 1/20, 1/20]\n",
    "    p3 = [1/20, 1/20, 1/20, 1/2, 1/20, 1/20, 1/20, 1/20, 1/20, 1/20, 1/20]\n",
    "    p4 = [1/20, 1/20, 1/20, 1/20, 1/2, 1/20, 1/20, 1/20, 1/20, 1/20, 1/20]\n",
    "    p5 = [1/20, 1/20, 1/20, 1/20, 1/20, 1/2, 1/20, 1/20, 1/20, 1/20, 1/20]\n",
    "    p6 = [1/20, 1/20, 1/20, 1/20, 1/20, 1/20, 1/2, 1/20, 1/20, 1/20, 1/20]\n",
    "    p7 = [1/20, 1/20, 1/20, 1/20, 1/20, 1/20, 1/20, 1/2, 1/20, 1/20, 1/20]\n",
    "    p8 = [1/20, 1/20, 1/20, 1/20, 1/20, 1/20, 1/20, 1/20, 1/2, 1/20, 1/20]\n",
    "    p9 = [1/20, 1/20, 1/20, 1/20, 1/20, 1/20, 1/20, 1/20, 1/20, 1/2, 1/20]\n",
    "    p10 = [1/20, 1/20, 1/20, 1/20, 1/20, 1/20, 1/20, 1/20, 1/20, 1/20, 1/2]\n",
    "    plist = [p0, p1, p2, p3,  p4, p5, p6, p7, p8, p9, p10]\n",
    "    # the list of posterior bayes vulnerabilities that will be graphed\n",
    "    val = []\n",
    "    post = []\n",
    "    for i in range(0, k):\n",
    "        val.append(i)\n",
    "        print(\"i: \", i)\n",
    "        print(\"plist: \", plist[i])\n",
    "        post.append(nonuni_ideal_ore_post_bayes(n, k, plist[i]))\n",
    "    df = pd.DataFrame(\n",
    "        {'i':val,\n",
    "         'posterior':post\n",
    "        }\n",
    "    )\n",
    "    return df"
   ]
  },
  {
   "cell_type": "code",
   "execution_count": 23,
   "metadata": {},
   "outputs": [
    {
     "name": "stdout",
     "output_type": "stream",
     "text": [
      "i:  0\n",
      "plist:  [0.5, 0.05, 0.05, 0.05, 0.05, 0.05, 0.05, 0.05, 0.05, 0.05, 0.05]\n",
      "i:  1\n",
      "plist:  [0.05, 0.5, 0.05, 0.05, 0.05, 0.05, 0.05, 0.05, 0.05, 0.05, 0.05]\n",
      "i:  2\n",
      "plist:  [0.05, 0.05, 0.5, 0.05, 0.05, 0.05, 0.05, 0.05, 0.05, 0.05, 0.05]\n",
      "i:  3\n",
      "plist:  [0.05, 0.05, 0.05, 0.5, 0.05, 0.05, 0.05, 0.05, 0.05, 0.05, 0.05]\n",
      "i:  4\n",
      "plist:  [0.05, 0.05, 0.05, 0.05, 0.5, 0.05, 0.05, 0.05, 0.05, 0.05, 0.05]\n",
      "i:  5\n",
      "plist:  [0.05, 0.05, 0.05, 0.05, 0.05, 0.5, 0.05, 0.05, 0.05, 0.05, 0.05]\n",
      "i:  6\n",
      "plist:  [0.05, 0.05, 0.05, 0.05, 0.05, 0.05, 0.5, 0.05, 0.05, 0.05, 0.05]\n",
      "i:  7\n",
      "plist:  [0.05, 0.05, 0.05, 0.05, 0.05, 0.05, 0.05, 0.5, 0.05, 0.05, 0.05]\n",
      "i:  8\n",
      "plist:  [0.05, 0.05, 0.05, 0.05, 0.05, 0.05, 0.05, 0.05, 0.5, 0.05, 0.05]\n",
      "i:  9\n",
      "plist:  [0.05, 0.05, 0.05, 0.05, 0.05, 0.05, 0.05, 0.05, 0.05, 0.5, 0.05]\n",
      "i:  10\n",
      "plist:  [0.05, 0.05, 0.05, 0.05, 0.05, 0.05, 0.05, 0.05, 0.05, 0.05, 0.5]\n"
     ]
    }
   ],
   "source": [
    "df = movemass(4, 11)"
   ]
  },
  {
   "cell_type": "code",
   "execution_count": 24,
   "metadata": {},
   "outputs": [
    {
     "data": {
      "text/html": [
       "<div>\n",
       "<style scoped>\n",
       "    .dataframe tbody tr th:only-of-type {\n",
       "        vertical-align: middle;\n",
       "    }\n",
       "\n",
       "    .dataframe tbody tr th {\n",
       "        vertical-align: top;\n",
       "    }\n",
       "\n",
       "    .dataframe thead th {\n",
       "        text-align: right;\n",
       "    }\n",
       "</style>\n",
       "<table border=\"1\" class=\"dataframe\">\n",
       "  <thead>\n",
       "    <tr style=\"text-align: right;\">\n",
       "      <th></th>\n",
       "      <th>i</th>\n",
       "      <th>posterior</th>\n",
       "    </tr>\n",
       "  </thead>\n",
       "  <tbody>\n",
       "    <tr>\n",
       "      <th>0</th>\n",
       "      <td>0</td>\n",
       "      <td>0.10200</td>\n",
       "    </tr>\n",
       "    <tr>\n",
       "      <th>1</th>\n",
       "      <td>1</td>\n",
       "      <td>0.13350</td>\n",
       "    </tr>\n",
       "    <tr>\n",
       "      <th>2</th>\n",
       "      <td>2</td>\n",
       "      <td>0.14025</td>\n",
       "    </tr>\n",
       "    <tr>\n",
       "      <th>3</th>\n",
       "      <td>3</td>\n",
       "      <td>0.14025</td>\n",
       "    </tr>\n",
       "    <tr>\n",
       "      <th>4</th>\n",
       "      <td>4</td>\n",
       "      <td>0.14025</td>\n",
       "    </tr>\n",
       "    <tr>\n",
       "      <th>5</th>\n",
       "      <td>5</td>\n",
       "      <td>0.14025</td>\n",
       "    </tr>\n",
       "    <tr>\n",
       "      <th>6</th>\n",
       "      <td>6</td>\n",
       "      <td>0.14025</td>\n",
       "    </tr>\n",
       "    <tr>\n",
       "      <th>7</th>\n",
       "      <td>7</td>\n",
       "      <td>0.14025</td>\n",
       "    </tr>\n",
       "    <tr>\n",
       "      <th>8</th>\n",
       "      <td>8</td>\n",
       "      <td>0.14025</td>\n",
       "    </tr>\n",
       "    <tr>\n",
       "      <th>9</th>\n",
       "      <td>9</td>\n",
       "      <td>0.13350</td>\n",
       "    </tr>\n",
       "    <tr>\n",
       "      <th>10</th>\n",
       "      <td>10</td>\n",
       "      <td>0.10200</td>\n",
       "    </tr>\n",
       "  </tbody>\n",
       "</table>\n",
       "</div>"
      ],
      "text/plain": [
       "     i  posterior\n",
       "0    0    0.10200\n",
       "1    1    0.13350\n",
       "2    2    0.14025\n",
       "3    3    0.14025\n",
       "4    4    0.14025\n",
       "5    5    0.14025\n",
       "6    6    0.14025\n",
       "7    7    0.14025\n",
       "8    8    0.14025\n",
       "9    9    0.13350\n",
       "10  10    0.10200"
      ]
     },
     "execution_count": 24,
     "metadata": {},
     "output_type": "execute_result"
    }
   ],
   "source": [
    "df"
   ]
  },
  {
   "cell_type": "markdown",
   "metadata": {},
   "source": [
    "## Graph move mass "
   ]
  },
  {
   "cell_type": "code",
   "execution_count": 25,
   "metadata": {},
   "outputs": [
    {
     "name": "stderr",
     "output_type": "stream",
     "text": [
      "C:\\Users\\mirey\\AppData\\Local\\Continuum\\anaconda3\\lib\\_collections_abc.py:841: MatplotlibDeprecationWarning: Support for setting the 'text.latex.preamble' or 'pgf.preamble' rcParam to a list of strings is deprecated since 3.3 and will be removed two minor releases later; set it to a single string instead.\n",
      "  self[key] = other[key]\n"
     ]
    }
   ],
   "source": [
    "import matplotlib as mpl\n",
    "from matplotlib.ticker import MaxNLocator\n",
    "font_choice = 14\n",
    "plt.rcParams.update(plt.rcParamsDefault)\n",
    "rc_fonts = {\n",
    "    \"text.usetex\": True,\n",
    "    \"font.size\": font_choice,\n",
    "    'mathtext.default': 'regular',\n",
    "    'axes.titlesize': font_choice,\n",
    "    \"axes.labelsize\": font_choice,\n",
    "    \"legend.fontsize\": font_choice,\n",
    "    \"xtick.labelsize\": font_choice,\n",
    "    \"ytick.labelsize\": font_choice,\n",
    "    'figure.titlesize': font_choice,\n",
    "    'figure.figsize': (8,5.25), #8,5.25 or 8,8\n",
    "    'text.latex.preamble': [r'\\usepackage{amsmath,nicefrac, sansmath}', \n",
    "                            r'\\sansmath'],\n",
    "    \"font.family\": \"sans-serif\",#\"font.sans-serif\": \"computer modern\",\n",
    "    }\n",
    "mpl.rcParams.update(rc_fonts)"
   ]
  },
  {
   "cell_type": "code",
   "execution_count": 37,
   "metadata": {},
   "outputs": [],
   "source": [
    "def graph_it_val(df):\n",
    "    ax = plt.figure().gca()\n",
    "    plt.plot('i', 'posterior',\n",
    "             color='green',\n",
    "             data=df,\n",
    "             linestyle='--',\n",
    "             marker='', \n",
    "             label=\"Ideal\")\n",
    "    plt.xlabel('values')\n",
    "    plt.xticks(df['i'])\n",
    "    #plt.xlim(left = 0, right = s_range+1)\n",
    "    plt.ylabel('posterior Bayes vulnerability')\n",
    "    plt.ylim(bottom=0.1, top = .15)\n",
    "    \n",
    "    plt.title('Ideal ORE, n = 4, k = 11') #edit to params\n",
    "    plt.legend(loc='upper left') \n",
    "    plt.savefig('val.png')\n",
    "    plt.show()\n",
    "    plt.close()"
   ]
  },
  {
   "cell_type": "code",
   "execution_count": 38,
   "metadata": {},
   "outputs": [
    {
     "data": {
      "image/png": "[encoded data removed]",
      "text/plain": [
       "<Figure size 800x525 with 1 Axes>"
      ]
     },
     "metadata": {},
     "output_type": "display_data"
    }
   ],
   "source": [
    "graph_it_val(df)"
   ]
  },
  {
   "cell_type": "markdown",
   "metadata": {},
   "source": [
    "ppdf(n_range, k, probs) generates a dataframe (table) of n ranging from 1 to n_range of the prior and posterior Bayes vulnerability"
   ]
  },
  {
   "cell_type": "code",
   "execution_count": 9,
   "metadata": {},
   "outputs": [],
   "source": [
    "def ppdf(n_range, k, probs):\n",
    "    post_bayes_vs = []\n",
    "    prior_bayes_vs = []\n",
    "    n = []\n",
    "    i = 0\n",
    "    for x in range(n_range):\n",
    "        i = i + 1\n",
    "        n.append(i)\n",
    "        print(\"i = \", i)\n",
    "        post = nonuni_ideal_ore_post_bayes(i, k, probs)\n",
    "        print(\"post = \", post)\n",
    "        post_bayes_vs.append(post)\n",
    "        prior = pow(probs[0], i) # assumes ordered prior, with biggest first\n",
    "        prior_bayes_vs.append(prior)\n",
    "    df = pd.DataFrame(\n",
    "        {'n':n,\n",
    "         'prior':prior_bayes_vs,\n",
    "         'posterior':post_bayes_vs\n",
    "        }\n",
    "    )\n",
    "    return df"
   ]
  },
  {
   "cell_type": "code",
   "execution_count": 64,
   "metadata": {},
   "outputs": [],
   "source": [
    "n_range = 4\n",
    "k = 4\n",
    "probs = [1/2, 1/4, 1/8, 1/8]\n",
    "df_small = ppdf(n_range, k, probs)"
   ]
  },
  {
   "cell_type": "code",
   "execution_count": 65,
   "metadata": {},
   "outputs": [
    {
     "data": {
      "text/html": [
       "<div>\n",
       "<style scoped>\n",
       "    .dataframe tbody tr th:only-of-type {\n",
       "        vertical-align: middle;\n",
       "    }\n",
       "\n",
       "    .dataframe tbody tr th {\n",
       "        vertical-align: top;\n",
       "    }\n",
       "\n",
       "    .dataframe thead th {\n",
       "        text-align: right;\n",
       "    }\n",
       "</style>\n",
       "<table border=\"1\" class=\"dataframe\">\n",
       "  <thead>\n",
       "    <tr style=\"text-align: right;\">\n",
       "      <th></th>\n",
       "      <th>n</th>\n",
       "      <th>prior</th>\n",
       "      <th>posterior</th>\n",
       "    </tr>\n",
       "  </thead>\n",
       "  <tbody>\n",
       "    <tr>\n",
       "      <th>0</th>\n",
       "      <td>1</td>\n",
       "      <td>0.5000</td>\n",
       "      <td>0.5000000</td>\n",
       "    </tr>\n",
       "    <tr>\n",
       "      <th>1</th>\n",
       "      <td>2</td>\n",
       "      <td>0.2500</td>\n",
       "      <td>0.5000000</td>\n",
       "    </tr>\n",
       "    <tr>\n",
       "      <th>2</th>\n",
       "      <td>3</td>\n",
       "      <td>0.1250</td>\n",
       "      <td>0.5000000</td>\n",
       "    </tr>\n",
       "    <tr>\n",
       "      <th>3</th>\n",
       "      <td>4</td>\n",
       "      <td>0.0625</td>\n",
       "      <td>0.5234375</td>\n",
       "    </tr>\n",
       "  </tbody>\n",
       "</table>\n",
       "</div>"
      ],
      "text/plain": [
       "   n   prior  posterior\n",
       "0  1  0.5000  0.5000000\n",
       "1  2  0.2500  0.5000000\n",
       "2  3  0.1250  0.5000000\n",
       "3  4  0.0625  0.5234375"
      ]
     },
     "execution_count": 65,
     "metadata": {},
     "output_type": "execute_result"
    }
   ],
   "source": [
    "df_small"
   ]
  },
  {
   "cell_type": "code",
   "execution_count": 66,
   "metadata": {},
   "outputs": [],
   "source": [
    "probs_middle = [1/8, 1/4, 1/2, 1/8]\n",
    "df_middle = ppdf(n_range, k, probs_middle)"
   ]
  },
  {
   "cell_type": "code",
   "execution_count": 67,
   "metadata": {},
   "outputs": [
    {
     "data": {
      "text/html": [
       "<div>\n",
       "<style scoped>\n",
       "    .dataframe tbody tr th:only-of-type {\n",
       "        vertical-align: middle;\n",
       "    }\n",
       "\n",
       "    .dataframe tbody tr th {\n",
       "        vertical-align: top;\n",
       "    }\n",
       "\n",
       "    .dataframe thead th {\n",
       "        text-align: right;\n",
       "    }\n",
       "</style>\n",
       "<table border=\"1\" class=\"dataframe\">\n",
       "  <thead>\n",
       "    <tr style=\"text-align: right;\">\n",
       "      <th></th>\n",
       "      <th>n</th>\n",
       "      <th>prior</th>\n",
       "      <th>posterior</th>\n",
       "    </tr>\n",
       "  </thead>\n",
       "  <tbody>\n",
       "    <tr>\n",
       "      <th>0</th>\n",
       "      <td>1</td>\n",
       "      <td>0.1250000000</td>\n",
       "      <td>0.500</td>\n",
       "    </tr>\n",
       "    <tr>\n",
       "      <th>1</th>\n",
       "      <td>2</td>\n",
       "      <td>0.0156250000</td>\n",
       "      <td>0.500</td>\n",
       "    </tr>\n",
       "    <tr>\n",
       "      <th>2</th>\n",
       "      <td>3</td>\n",
       "      <td>0.0019531250</td>\n",
       "      <td>0.500</td>\n",
       "    </tr>\n",
       "    <tr>\n",
       "      <th>3</th>\n",
       "      <td>4</td>\n",
       "      <td>0.0002441406</td>\n",
       "      <td>0.625</td>\n",
       "    </tr>\n",
       "  </tbody>\n",
       "</table>\n",
       "</div>"
      ],
      "text/plain": [
       "   n         prior  posterior\n",
       "0  1  0.1250000000      0.500\n",
       "1  2  0.0156250000      0.500\n",
       "2  3  0.0019531250      0.500\n",
       "3  4  0.0002441406      0.625"
      ]
     },
     "execution_count": 67,
     "metadata": {},
     "output_type": "execute_result"
    }
   ],
   "source": [
    "df_middle"
   ]
  },
  {
   "cell_type": "markdown",
   "metadata": {},
   "source": [
    "From n = 1 to 25\n",
    "and k = 20 plaintext values\n",
    "such that the first value has probability 1/2 and 19 have equal probability 1/38"
   ]
  },
  {
   "cell_type": "code",
   "execution_count": 231,
   "metadata": {},
   "outputs": [],
   "source": [
    "n_range = 25\n",
    "k = 20\n",
    "probs = [1/2, 1/38, 1/38, 1/38, 1/38, 1/38, 1/38, 1/38, 1/38, 1/38, 1/38, 1/38, 1/38,1/38, 1/38, 1/38, 1/38, 1/38, 1/38, 1/38]\n",
    "df_half = ppdf(n_range, k, probs)"
   ]
  },
  {
   "cell_type": "code",
   "execution_count": 232,
   "metadata": {},
   "outputs": [
    {
     "data": {
      "text/html": [
       "<div>\n",
       "<style scoped>\n",
       "    .dataframe tbody tr th:only-of-type {\n",
       "        vertical-align: middle;\n",
       "    }\n",
       "\n",
       "    .dataframe tbody tr th {\n",
       "        vertical-align: top;\n",
       "    }\n",
       "\n",
       "    .dataframe thead th {\n",
       "        text-align: right;\n",
       "    }\n",
       "</style>\n",
       "<table border=\"1\" class=\"dataframe\">\n",
       "  <thead>\n",
       "    <tr style=\"text-align: right;\">\n",
       "      <th></th>\n",
       "      <th>n</th>\n",
       "      <th>prior</th>\n",
       "      <th>posterior</th>\n",
       "    </tr>\n",
       "  </thead>\n",
       "  <tbody>\n",
       "    <tr>\n",
       "      <th>0</th>\n",
       "      <td>1</td>\n",
       "      <td>0.5000000000</td>\n",
       "      <td>0.5000000000</td>\n",
       "    </tr>\n",
       "    <tr>\n",
       "      <th>1</th>\n",
       "      <td>2</td>\n",
       "      <td>0.2500000000</td>\n",
       "      <td>0.2763157895</td>\n",
       "    </tr>\n",
       "    <tr>\n",
       "      <th>2</th>\n",
       "      <td>3</td>\n",
       "      <td>0.1250000000</td>\n",
       "      <td>0.1478531856</td>\n",
       "    </tr>\n",
       "    <tr>\n",
       "      <th>3</th>\n",
       "      <td>4</td>\n",
       "      <td>0.0625000000</td>\n",
       "      <td>0.0792480682</td>\n",
       "    </tr>\n",
       "    <tr>\n",
       "      <th>4</th>\n",
       "      <td>5</td>\n",
       "      <td>0.0312500000</td>\n",
       "      <td>0.0427528468</td>\n",
       "    </tr>\n",
       "    <tr>\n",
       "      <th>5</th>\n",
       "      <td>6</td>\n",
       "      <td>0.0156250000</td>\n",
       "      <td>0.0232545793</td>\n",
       "    </tr>\n",
       "    <tr>\n",
       "      <th>6</th>\n",
       "      <td>7</td>\n",
       "      <td>0.0078125000</td>\n",
       "      <td>0.0127710946</td>\n",
       "    </tr>\n",
       "    <tr>\n",
       "      <th>7</th>\n",
       "      <td>8</td>\n",
       "      <td>0.0039062500</td>\n",
       "      <td>0.0070922206</td>\n",
       "    </tr>\n",
       "    <tr>\n",
       "      <th>8</th>\n",
       "      <td>9</td>\n",
       "      <td>0.0019531250</td>\n",
       "      <td>0.0039895670</td>\n",
       "    </tr>\n",
       "    <tr>\n",
       "      <th>9</th>\n",
       "      <td>10</td>\n",
       "      <td>0.0009765625</td>\n",
       "      <td>0.0022778794</td>\n",
       "    </tr>\n",
       "    <tr>\n",
       "      <th>10</th>\n",
       "      <td>11</td>\n",
       "      <td>0.0004882812</td>\n",
       "      <td>0.0013231145</td>\n",
       "    </tr>\n",
       "    <tr>\n",
       "      <th>11</th>\n",
       "      <td>12</td>\n",
       "      <td>0.0002441406</td>\n",
       "      <td>0.0007838941</td>\n",
       "    </tr>\n",
       "    <tr>\n",
       "      <th>12</th>\n",
       "      <td>13</td>\n",
       "      <td>0.0001220703</td>\n",
       "      <td>0.0004750783</td>\n",
       "    </tr>\n",
       "    <tr>\n",
       "      <th>13</th>\n",
       "      <td>14</td>\n",
       "      <td>0.0000610352</td>\n",
       "      <td>0.0002954434</td>\n",
       "    </tr>\n",
       "    <tr>\n",
       "      <th>14</th>\n",
       "      <td>15</td>\n",
       "      <td>0.0000305176</td>\n",
       "      <td>0.0001891447</td>\n",
       "    </tr>\n",
       "    <tr>\n",
       "      <th>15</th>\n",
       "      <td>16</td>\n",
       "      <td>0.0000152588</td>\n",
       "      <td>0.0001250628</td>\n",
       "    </tr>\n",
       "    <tr>\n",
       "      <th>16</th>\n",
       "      <td>17</td>\n",
       "      <td>0.0000076294</td>\n",
       "      <td>0.0000856633</td>\n",
       "    </tr>\n",
       "    <tr>\n",
       "      <th>17</th>\n",
       "      <td>18</td>\n",
       "      <td>0.0000038147</td>\n",
       "      <td>0.0000609461</td>\n",
       "    </tr>\n",
       "    <tr>\n",
       "      <th>18</th>\n",
       "      <td>19</td>\n",
       "      <td>0.0000019073</td>\n",
       "      <td>0.0000451329</td>\n",
       "    </tr>\n",
       "    <tr>\n",
       "      <th>19</th>\n",
       "      <td>20</td>\n",
       "      <td>0.0000009537</td>\n",
       "      <td>0.0000348385</td>\n",
       "    </tr>\n",
       "    <tr>\n",
       "      <th>20</th>\n",
       "      <td>21</td>\n",
       "      <td>0.0000004768</td>\n",
       "      <td>0.0000280523</td>\n",
       "    </tr>\n",
       "    <tr>\n",
       "      <th>21</th>\n",
       "      <td>22</td>\n",
       "      <td>0.0000002384</td>\n",
       "      <td>0.0000235648</td>\n",
       "    </tr>\n",
       "    <tr>\n",
       "      <th>22</th>\n",
       "      <td>23</td>\n",
       "      <td>0.0000001192</td>\n",
       "      <td>0.0000206422</td>\n",
       "    </tr>\n",
       "    <tr>\n",
       "      <th>23</th>\n",
       "      <td>24</td>\n",
       "      <td>0.0000000596</td>\n",
       "      <td>0.0000188401</td>\n",
       "    </tr>\n",
       "    <tr>\n",
       "      <th>24</th>\n",
       "      <td>25</td>\n",
       "      <td>0.0000000298</td>\n",
       "      <td>0.0000178965</td>\n",
       "    </tr>\n",
       "  </tbody>\n",
       "</table>\n",
       "</div>"
      ],
      "text/plain": [
       "     n         prior     posterior\n",
       "0    1  0.5000000000  0.5000000000\n",
       "1    2  0.2500000000  0.2763157895\n",
       "2    3  0.1250000000  0.1478531856\n",
       "3    4  0.0625000000  0.0792480682\n",
       "4    5  0.0312500000  0.0427528468\n",
       "5    6  0.0156250000  0.0232545793\n",
       "6    7  0.0078125000  0.0127710946\n",
       "7    8  0.0039062500  0.0070922206\n",
       "8    9  0.0019531250  0.0039895670\n",
       "9   10  0.0009765625  0.0022778794\n",
       "10  11  0.0004882812  0.0013231145\n",
       "11  12  0.0002441406  0.0007838941\n",
       "12  13  0.0001220703  0.0004750783\n",
       "13  14  0.0000610352  0.0002954434\n",
       "14  15  0.0000305176  0.0001891447\n",
       "15  16  0.0000152588  0.0001250628\n",
       "16  17  0.0000076294  0.0000856633\n",
       "17  18  0.0000038147  0.0000609461\n",
       "18  19  0.0000019073  0.0000451329\n",
       "19  20  0.0000009537  0.0000348385\n",
       "20  21  0.0000004768  0.0000280523\n",
       "21  22  0.0000002384  0.0000235648\n",
       "22  23  0.0000001192  0.0000206422\n",
       "23  24  0.0000000596  0.0000188401\n",
       "24  25  0.0000000298  0.0000178965"
      ]
     },
     "execution_count": 232,
     "metadata": {},
     "output_type": "execute_result"
    }
   ],
   "source": [
    "df_half"
   ]
  },
  {
   "cell_type": "code",
   "execution_count": 233,
   "metadata": {},
   "outputs": [],
   "source": [
    "df_half.to_csv(r'data\\df_half_n25_k20', index = None, header = True)"
   ]
  },
  {
   "cell_type": "code",
   "execution_count": null,
   "metadata": {},
   "outputs": [],
   "source": [
    "df_half_front = pd.read_csv('data\\df_half_n25_k20')"
   ]
  },
  {
   "cell_type": "markdown",
   "metadata": {},
   "source": [
    "What if the 10th value was the most likely?"
   ]
  },
  {
   "cell_type": "code",
   "execution_count": 10,
   "metadata": {},
   "outputs": [
    {
     "name": "stdout",
     "output_type": "stream",
     "text": [
      "i =  1\n",
      "post =  0.5\n",
      "i =  2\n",
      "post =  0.2763157894736842\n",
      "i =  3\n",
      "post =  0.16655124653739614\n",
      "i =  4\n",
      "post =  0.09630594838897798\n",
      "i =  5\n",
      "post =  0.056154850331105496\n",
      "i =  6\n",
      "post =  0.03300706701347563\n",
      "i =  7\n",
      "post =  0.0196720106126294\n",
      "i =  8\n",
      "post =  0.011910473919968344\n",
      "i =  9\n",
      "post =  0.007345299630066338\n",
      "i =  10\n",
      "post =  0.004624242581448083\n",
      "i =  11\n",
      "post =  0.002978576636776399\n",
      "i =  12\n",
      "post =  0.0019672954945286615\n",
      "i =  13\n",
      "post =  0.0013352323425048248\n",
      "i =  14\n"
     ]
    },
    {
     "ename": "KeyboardInterrupt",
     "evalue": "",
     "output_type": "error",
     "traceback": [
      "\u001b[1;31m---------------------------------------------------------------------------\u001b[0m",
      "\u001b[1;31mKeyboardInterrupt\u001b[0m                         Traceback (most recent call last)",
      "\u001b[1;32m<ipython-input-10-8d3f2974b1cd>\u001b[0m in \u001b[0;36m<module>\u001b[1;34m\u001b[0m\n\u001b[0;32m      2\u001b[0m \u001b[0mk\u001b[0m \u001b[1;33m=\u001b[0m \u001b[1;36m20\u001b[0m\u001b[1;33m\u001b[0m\u001b[1;33m\u001b[0m\u001b[0m\n\u001b[0;32m      3\u001b[0m \u001b[0mprobs\u001b[0m \u001b[1;33m=\u001b[0m \u001b[1;33m[\u001b[0m\u001b[1;36m1\u001b[0m\u001b[1;33m/\u001b[0m\u001b[1;36m38\u001b[0m\u001b[1;33m,\u001b[0m \u001b[1;36m1\u001b[0m\u001b[1;33m/\u001b[0m\u001b[1;36m38\u001b[0m\u001b[1;33m,\u001b[0m \u001b[1;36m1\u001b[0m\u001b[1;33m/\u001b[0m\u001b[1;36m38\u001b[0m\u001b[1;33m,\u001b[0m \u001b[1;36m1\u001b[0m\u001b[1;33m/\u001b[0m\u001b[1;36m38\u001b[0m\u001b[1;33m,\u001b[0m \u001b[1;36m1\u001b[0m\u001b[1;33m/\u001b[0m\u001b[1;36m38\u001b[0m\u001b[1;33m,\u001b[0m \u001b[1;36m1\u001b[0m\u001b[1;33m/\u001b[0m\u001b[1;36m38\u001b[0m\u001b[1;33m,\u001b[0m \u001b[1;36m1\u001b[0m\u001b[1;33m/\u001b[0m\u001b[1;36m38\u001b[0m\u001b[1;33m,\u001b[0m \u001b[1;36m1\u001b[0m\u001b[1;33m/\u001b[0m\u001b[1;36m38\u001b[0m\u001b[1;33m,\u001b[0m \u001b[1;36m1\u001b[0m\u001b[1;33m/\u001b[0m\u001b[1;36m38\u001b[0m\u001b[1;33m,\u001b[0m \u001b[1;36m1\u001b[0m\u001b[1;33m/\u001b[0m\u001b[1;36m2\u001b[0m\u001b[1;33m,\u001b[0m \u001b[1;36m1\u001b[0m\u001b[1;33m/\u001b[0m\u001b[1;36m38\u001b[0m\u001b[1;33m,\u001b[0m \u001b[1;36m1\u001b[0m\u001b[1;33m/\u001b[0m\u001b[1;36m38\u001b[0m\u001b[1;33m,\u001b[0m \u001b[1;36m1\u001b[0m\u001b[1;33m/\u001b[0m\u001b[1;36m38\u001b[0m\u001b[1;33m,\u001b[0m\u001b[1;36m1\u001b[0m\u001b[1;33m/\u001b[0m\u001b[1;36m38\u001b[0m\u001b[1;33m,\u001b[0m \u001b[1;36m1\u001b[0m\u001b[1;33m/\u001b[0m\u001b[1;36m38\u001b[0m\u001b[1;33m,\u001b[0m \u001b[1;36m1\u001b[0m\u001b[1;33m/\u001b[0m\u001b[1;36m38\u001b[0m\u001b[1;33m,\u001b[0m \u001b[1;36m1\u001b[0m\u001b[1;33m/\u001b[0m\u001b[1;36m38\u001b[0m\u001b[1;33m,\u001b[0m \u001b[1;36m1\u001b[0m\u001b[1;33m/\u001b[0m\u001b[1;36m38\u001b[0m\u001b[1;33m,\u001b[0m \u001b[1;36m1\u001b[0m\u001b[1;33m/\u001b[0m\u001b[1;36m38\u001b[0m\u001b[1;33m,\u001b[0m \u001b[1;36m1\u001b[0m\u001b[1;33m/\u001b[0m\u001b[1;36m38\u001b[0m\u001b[1;33m]\u001b[0m\u001b[1;33m\u001b[0m\u001b[1;33m\u001b[0m\u001b[0m\n\u001b[1;32m----> 4\u001b[1;33m \u001b[0mdf_half_middle\u001b[0m \u001b[1;33m=\u001b[0m \u001b[0mppdf\u001b[0m\u001b[1;33m(\u001b[0m\u001b[0mn_range\u001b[0m\u001b[1;33m,\u001b[0m \u001b[0mk\u001b[0m\u001b[1;33m,\u001b[0m \u001b[0mprobs\u001b[0m\u001b[1;33m)\u001b[0m\u001b[1;33m\u001b[0m\u001b[1;33m\u001b[0m\u001b[0m\n\u001b[0m",
      "\u001b[1;32m<ipython-input-9-6e00896df53f>\u001b[0m in \u001b[0;36mppdf\u001b[1;34m(n_range, k, probs)\u001b[0m\n\u001b[0;32m      8\u001b[0m         \u001b[0mn\u001b[0m\u001b[1;33m.\u001b[0m\u001b[0mappend\u001b[0m\u001b[1;33m(\u001b[0m\u001b[0mi\u001b[0m\u001b[1;33m)\u001b[0m\u001b[1;33m\u001b[0m\u001b[1;33m\u001b[0m\u001b[0m\n\u001b[0;32m      9\u001b[0m         \u001b[0mprint\u001b[0m\u001b[1;33m(\u001b[0m\u001b[1;34m\"i = \"\u001b[0m\u001b[1;33m,\u001b[0m \u001b[0mi\u001b[0m\u001b[1;33m)\u001b[0m\u001b[1;33m\u001b[0m\u001b[1;33m\u001b[0m\u001b[0m\n\u001b[1;32m---> 10\u001b[1;33m         \u001b[0mpost\u001b[0m \u001b[1;33m=\u001b[0m \u001b[0mnonuni_ideal_ore_post_bayes\u001b[0m\u001b[1;33m(\u001b[0m\u001b[0mi\u001b[0m\u001b[1;33m,\u001b[0m \u001b[0mk\u001b[0m\u001b[1;33m,\u001b[0m \u001b[0mprobs\u001b[0m\u001b[1;33m)\u001b[0m\u001b[1;33m\u001b[0m\u001b[1;33m\u001b[0m\u001b[0m\n\u001b[0m\u001b[0;32m     11\u001b[0m         \u001b[0mprint\u001b[0m\u001b[1;33m(\u001b[0m\u001b[1;34m\"post = \"\u001b[0m\u001b[1;33m,\u001b[0m \u001b[0mpost\u001b[0m\u001b[1;33m)\u001b[0m\u001b[1;33m\u001b[0m\u001b[1;33m\u001b[0m\u001b[0m\n\u001b[0;32m     12\u001b[0m         \u001b[0mpost_bayes_vs\u001b[0m\u001b[1;33m.\u001b[0m\u001b[0mappend\u001b[0m\u001b[1;33m(\u001b[0m\u001b[0mpost\u001b[0m\u001b[1;33m)\u001b[0m\u001b[1;33m\u001b[0m\u001b[1;33m\u001b[0m\u001b[0m\n",
      "\u001b[1;32m<ipython-input-8-b86bc1636379>\u001b[0m in \u001b[0;36mnonuni_ideal_ore_post_bayes\u001b[1;34m(n, k, Pi)\u001b[0m\n\u001b[0;32m     11\u001b[0m             \u001b[1;31m#print(\"msp: \", msp)\u001b[0m\u001b[1;33m\u001b[0m\u001b[1;33m\u001b[0m\u001b[1;33m\u001b[0m\u001b[0m\n\u001b[0;32m     12\u001b[0m             \u001b[0mprob\u001b[0m \u001b[1;33m=\u001b[0m \u001b[1;36m0\u001b[0m\u001b[1;33m\u001b[0m\u001b[1;33m\u001b[0m\u001b[0m\n\u001b[1;32m---> 13\u001b[1;33m             \u001b[0mprob\u001b[0m \u001b[1;33m=\u001b[0m \u001b[0more_calc_max_prob\u001b[0m\u001b[1;33m(\u001b[0m\u001b[0mmsp\u001b[0m\u001b[1;33m,\u001b[0m \u001b[0mPi\u001b[0m\u001b[1;33m)\u001b[0m \u001b[1;31m# find probability for case\u001b[0m\u001b[1;33m\u001b[0m\u001b[1;33m\u001b[0m\u001b[0m\n\u001b[0m\u001b[0;32m     14\u001b[0m             \u001b[1;31m#print(\"case prob: \", prob)\u001b[0m\u001b[1;33m\u001b[0m\u001b[1;33m\u001b[0m\u001b[1;33m\u001b[0m\u001b[0m\n\u001b[0;32m     15\u001b[0m             \u001b[0mval\u001b[0m \u001b[1;33m=\u001b[0m \u001b[0mc\u001b[0m \u001b[1;33m*\u001b[0m \u001b[0mprob\u001b[0m \u001b[1;31m# multipy by probability\u001b[0m\u001b[1;33m\u001b[0m\u001b[1;33m\u001b[0m\u001b[0m\n",
      "\u001b[1;32m<ipython-input-4-4a4d0e6a555f>\u001b[0m in \u001b[0;36more_calc_max_prob\u001b[1;34m(msp, Pi)\u001b[0m\n\u001b[0;32m      7\u001b[0m         \u001b[1;32mfor\u001b[0m \u001b[0mx\u001b[0m \u001b[1;32min\u001b[0m \u001b[0mrange\u001b[0m\u001b[1;33m(\u001b[0m\u001b[0mlen\u001b[0m\u001b[1;33m(\u001b[0m\u001b[0mmsp\u001b[0m\u001b[1;33m)\u001b[0m\u001b[1;33m)\u001b[0m\u001b[1;33m:\u001b[0m\u001b[1;33m\u001b[0m\u001b[1;33m\u001b[0m\u001b[0m\n\u001b[0;32m      8\u001b[0m             \u001b[0mterm\u001b[0m \u001b[1;33m=\u001b[0m \u001b[0mpow\u001b[0m\u001b[1;33m(\u001b[0m\u001b[0mi\u001b[0m\u001b[1;33m[\u001b[0m\u001b[0mx\u001b[0m\u001b[1;33m]\u001b[0m\u001b[1;33m,\u001b[0m \u001b[0mmsp\u001b[0m\u001b[1;33m[\u001b[0m\u001b[0mx\u001b[0m\u001b[1;33m]\u001b[0m\u001b[1;33m)\u001b[0m \u001b[1;31m# msp pow will be the same, but pi will not be.\u001b[0m\u001b[1;33m\u001b[0m\u001b[1;33m\u001b[0m\u001b[0m\n\u001b[1;32m----> 9\u001b[1;33m             \u001b[0mprob\u001b[0m \u001b[1;33m=\u001b[0m \u001b[0mprob\u001b[0m \u001b[1;33m*\u001b[0m \u001b[0mterm\u001b[0m\u001b[1;33m\u001b[0m\u001b[1;33m\u001b[0m\u001b[0m\n\u001b[0m\u001b[0;32m     10\u001b[0m         \u001b[1;32mif\u001b[0m \u001b[0mprob\u001b[0m \u001b[1;33m>\u001b[0m \u001b[0mmax_prob\u001b[0m\u001b[1;33m:\u001b[0m\u001b[1;33m\u001b[0m\u001b[1;33m\u001b[0m\u001b[0m\n\u001b[0;32m     11\u001b[0m             \u001b[0mmax_prob\u001b[0m \u001b[1;33m=\u001b[0m \u001b[0mprob\u001b[0m\u001b[1;33m\u001b[0m\u001b[1;33m\u001b[0m\u001b[0m\n",
      "\u001b[1;31mKeyboardInterrupt\u001b[0m: "
     ]
    }
   ],
   "source": [
    "n_range = 25\n",
    "k = 20\n",
    "probs = [1/38, 1/38, 1/38, 1/38, 1/38, 1/38, 1/38, 1/38, 1/38, 1/2, 1/38, 1/38, 1/38,1/38, 1/38, 1/38, 1/38, 1/38, 1/38, 1/38]\n",
    "df_half_middle = ppdf(n_range, k, probs)"
   ]
  },
  {
   "cell_type": "code",
   "execution_count": 11,
   "metadata": {},
   "outputs": [
    {
     "name": "stdout",
     "output_type": "stream",
     "text": [
      "0.000672596723635406\n"
     ]
    }
   ],
   "source": [
    "n = 15\n",
    "k = 20\n",
    "probs = [1/38, 1/38, 1/38, 1/38, 1/38, 1/38, 1/38, 1/38, 1/38, 1/2, 1/38, 1/38, 1/38,1/38, 1/38, 1/38, 1/38, 1/38, 1/38, 1/38]\n",
    "print(nonuni_ideal_ore_post_bayes(n, k, probs))"
   ]
  },
  {
   "cell_type": "code",
   "execution_count": null,
   "metadata": {},
   "outputs": [],
   "source": [
    "n = 20\n",
    "k = 20\n",
    "probs = [1/38, 1/38, 1/38, 1/38, 1/38, 1/38, 1/38, 1/38, 1/38, 1/2, 1/38, 1/38, 1/38,1/38, 1/38, 1/38, 1/38, 1/38, 1/38, 1/38]\n",
    "print(nonuni_ideal_ore_post_bayes(n, k, probs))"
   ]
  },
  {
   "cell_type": "code",
   "execution_count": null,
   "metadata": {},
   "outputs": [],
   "source": [
    "n = 25\n",
    "k = 20\n",
    "probs = [1/38, 1/38, 1/38, 1/38, 1/38, 1/38, 1/38, 1/38, 1/38, 1/2, 1/38, 1/38, 1/38,1/38, 1/38, 1/38, 1/38, 1/38, 1/38, 1/38]\n",
    "print(nonuni_ideal_ore_post_bayes(n, k, probs))"
   ]
  },
  {
   "cell_type": "code",
   "execution_count": null,
   "metadata": {},
   "outputs": [],
   "source": [
    "df_half_middle"
   ]
  },
  {
   "cell_type": "code",
   "execution_count": null,
   "metadata": {},
   "outputs": [],
   "source": [
    "df_half_middle.to_csv(r'data\\df_half_middle_n25_k20', index = None, header = True)"
   ]
  },
  {
   "cell_type": "code",
   "execution_count": null,
   "metadata": {},
   "outputs": [],
   "source": [
    "df_half_middle = pd.read_csv('data\\df_half_middle_n25_k20')"
   ]
  },
  {
   "cell_type": "markdown",
   "metadata": {},
   "source": [
    "## Graphs"
   ]
  },
  {
   "cell_type": "code",
   "execution_count": 8,
   "metadata": {},
   "outputs": [],
   "source": [
    "import matplotlib as mpl\n",
    "from matplotlib.ticker import MaxNLocator\n",
    "font_choice = 14\n",
    "plt.rcParams.update(plt.rcParamsDefault)\n",
    "rc_fonts = {\n",
    "    \"text.usetex\": True,\n",
    "    \"font.size\": font_choice,\n",
    "    'mathtext.default': 'regular',\n",
    "    'axes.titlesize': font_choice,\n",
    "    \"axes.labelsize\": font_choice,\n",
    "    \"legend.fontsize\": font_choice,\n",
    "    \"xtick.labelsize\": font_choice,\n",
    "    \"ytick.labelsize\": font_choice,\n",
    "    'figure.titlesize': font_choice,\n",
    "    'figure.figsize': (8,5.25),\n",
    "    'text.latex.preamble': [r'\\usepackage{amsmath,nicefrac, sansmath}', \n",
    "                            r'\\sansmath'],\n",
    "    \"font.family\": \"sans-serif\",#\"font.sans-serif\": \"computer modern\",\n",
    "    }\n",
    "mpl.rcParams.update(rc_fonts)"
   ]
  },
  {
   "cell_type": "code",
   "execution_count": 9,
   "metadata": {},
   "outputs": [],
   "source": [
    "def graph_it_bayes(n_range, k, df):\n",
    "    ax = plt.figure().gca()\n",
    "    plt.plot('n', 'prior', \n",
    "             data=df,\n",
    "             label=\"prior\")\n",
    "    plt.plot('n', 'posterior',\n",
    "             color='green',\n",
    "             data=df,\n",
    "             linestyle='--',\n",
    "             marker='', \n",
    "             label=\"posterior\")\n",
    "    ax.xaxis.set_major_locator(MaxNLocator(integer=True))\n",
    "    plt.xlabel('n')\n",
    "    plt.xlim(left = 0, right = n_range+1)\n",
    "    plt.ylabel('Bayes vulnerability')\n",
    "    plt.ylim(bottom=-.1, top = 1)\n",
    "    \n",
    "    plt.title('Bayes vulnerability under non-uniform prior, k = {}'.format(k))\n",
    "    plt.legend(loc='upper left') # legend adjusted so it doesn't run into annotations\n",
    "    plt.show()\n",
    "    plt.close()"
   ]
  },
  {
   "cell_type": "code",
   "execution_count": 234,
   "metadata": {},
   "outputs": [
    {
     "data": {
      "image/png": "[encoded data removed]",
      "text/plain": [
       "<Figure size 432x288 with 1 Axes>"
      ]
     },
     "metadata": {
      "needs_background": "light"
     },
     "output_type": "display_data"
    }
   ],
   "source": [
    "graph_it_bayes(n_range, k, df_half)"
   ]
  },
  {
   "cell_type": "code",
   "execution_count": null,
   "metadata": {},
   "outputs": [],
   "source": []
  }
 ],
 "metadata": {
  "kernelspec": {
   "display_name": "Python 3",
   "language": "python",
   "name": "python3"
  },
  "language_info": {
   "codemirror_mode": {
    "name": "ipython",
    "version": 3
   },
   "file_extension": ".py",
   "mimetype": "text/x-python",
   "name": "python",
   "nbconvert_exporter": "python",
   "pygments_lexer": "ipython3",
   "version": "3.6.12"
  }
 },
 "nbformat": 4,
 "nbformat_minor": 2
}
