{
 "cells": [
  {
   "cell_type": "markdown",
   "metadata": {},
   "source": [
    "# Ideal ORE, Non-uniform\n",
    "## Bayes Vulnerability"
   ]
  },
  {
   "cell_type": "code",
   "execution_count": 49,
   "metadata": {},
   "outputs": [],
   "source": [
    "import collections\n",
    "import math\n",
    "import numpy as np\n",
    "import pandas as pd\n",
    "from scipy.special import perm, comb # for nPk\n",
    "from itertools import combinations\n",
    "from sympy.utilities.iterables import partitions, variations, multiset_permutations\n",
    "from sympy.functions.combinatorial.numbers import stirling\n",
    "from decimal import Decimal\n",
    "import matplotlib.pyplot as plt \n",
    "pd.set_option('precision', 10)\n",
    "%matplotlib inline"
   ]
  },
  {
   "cell_type": "markdown",
   "metadata": {},
   "source": [
    "uni_ore_bayes(n, k) \n",
    "- included for reference \n",
    "$$ V_1 [C \\triangleright \\pi ]  =  \\frac{\\sum_{i=1}^{min(n, k)} \\text{stirling2}(n, i)\\times i!}{k^n}  $$"
   ]
  },
  {
   "cell_type": "code",
   "execution_count": 2,
   "metadata": {},
   "outputs": [],
   "source": [
    "def uni_ore_bayes(n, k):\n",
    "    outputs = 0\n",
    "    inputs = 0\n",
    "    for c in range(n):\n",
    "        if k < c+1:\n",
    "            break\n",
    "        s2 = stirling(n, c+1)\n",
    "        outputs = outputs + (math.factorial(c+1) * s2)\n",
    "        inputs = inputs + (perm(k, c+1) * s2)\n",
    "    return outputs / inputs"
   ]
  },
  {
   "cell_type": "markdown",
   "metadata": {},
   "source": [
    "int_part_to_list(p) takes integer partition as input and outputs a list representation.\n",
    "\n",
    "Ex:\n",
    "```python\n",
    "p = {3:1, 2:2, 1:3}\n",
    "p_list = [3, 2, 2, 1, 1, 1]\n",
    "```"
   ]
  },
  {
   "cell_type": "code",
   "execution_count": 3,
   "metadata": {},
   "outputs": [],
   "source": [
    "def int_part_to_list(p):\n",
    "    p_list = []\n",
    "    for key in p.keys():\n",
    "        for v in range(p[key]):\n",
    "            p_list.append(key)\n",
    "    return p_list"
   ]
  },
  {
   "cell_type": "markdown",
   "metadata": {},
   "source": [
    "ore_calc_max_prob(msp, Pi) takes the multiset_permutation as output by multiset_permutation(p_list) and the prior Pi and outputs the maximum probability for that group of columns\n",
    "\n",
    "Currently, done with brute force, calculating the nCk number of cases and finding the max probability where k = the number of blocks"
   ]
  },
  {
   "cell_type": "code",
   "execution_count": 50,
   "metadata": {},
   "outputs": [],
   "source": [
    "def ore_calc_max_prob(msp, Pi):\n",
    "    k = len(msp)\n",
    "    candidate_probabilities = []\n",
    "    for i in combinations(Pi, k): # for all nCk cases, determine what the probability would be\n",
    "        prob = 1\n",
    "        term = 1\n",
    "        for x in range(len(msp)):\n",
    "            term = pow(i[x], msp[x]) # msp pow will be the same, but pi will not be. \n",
    "            prob = prob * term\n",
    "        candidate_probabilities.append(prob) # add to list\n",
    "    return max(candidate_probabilities) # return max"
   ]
  },
  {
   "cell_type": "code",
   "execution_count": 48,
   "metadata": {},
   "outputs": [
    {
     "data": {
      "text/plain": [
       "0.0078125"
      ]
     },
     "execution_count": 48,
     "metadata": {},
     "output_type": "execute_result"
    }
   ],
   "source": [
    "msp = [1,2,1]\n",
    "Pi = [1/8, 1/4, 1/2, 1/8]\n",
    "ore_calc_max_prob(msp, Pi)"
   ]
  },
  {
   "cell_type": "markdown",
   "metadata": {},
   "source": [
    "ore_calc_set_partitions(n,p) takes n and the integer partition and outputs how many columns correspond to this case\n",
    "\n",
    "$$ \\frac{n!}{\\prod_{i} (i ! ) ^ \\text{multipilicity}} $$ where $i$ is an integer in the integer partition\n",
    "\n",
    "Ex: \n",
    "```python\n",
    "n = 4, p = {2:2}\n",
    "sp = 6\n",
    "```"
   ]
  },
  {
   "cell_type": "code",
   "execution_count": 5,
   "metadata": {},
   "outputs": [],
   "source": [
    "def ore_calc_set_partitions(n,p):\n",
    "    num = math.factorial(n) # numerator is all blocks!\n",
    "    den = 1\n",
    "    for i in p.keys():\n",
    "        den = den * math.pow(math.factorial(i), p[i])\n",
    "    sp = num / den\n",
    "    return sp"
   ]
  },
  {
   "cell_type": "markdown",
   "metadata": {},
   "source": [
    "nonuni_ideal_ore_post_bayes(n, k, Pi) takes n, k, and Pi and calculates the posterior Bayes vulnerability "
   ]
  },
  {
   "cell_type": "code",
   "execution_count": 6,
   "metadata": {},
   "outputs": [],
   "source": [
    "def nonuni_ideal_ore_post_bayes(n, k, Pi):\n",
    "    pbvsum = 0\n",
    "    for p in partitions(n, m=k):\n",
    "        p_list = int_part_to_list(p) # turn to list\n",
    "        c = ore_calc_set_partitions(n,p) # check\n",
    "        insum = 0\n",
    "        for msp in multiset_permutations(p_list): # for all multiset partitions,\n",
    "            prob = 0\n",
    "            prob = ore_calc_max_prob(msp, Pi) # find probability for case\n",
    "            val = c * prob # multipy by probability\n",
    "            insum = insum + val\n",
    "        pbvsum = pbvsum + insum # add to running sum\n",
    "    return pbvsum"
   ]
  },
  {
   "cell_type": "markdown",
   "metadata": {},
   "source": [
    "n = 3, k = 3 [1/2, 1/3, 1/6], the posterior Bayes vulnerability is 17/24 ~ 0.70833"
   ]
  },
  {
   "cell_type": "code",
   "execution_count": 227,
   "metadata": {},
   "outputs": [
    {
     "name": "stdout",
     "output_type": "stream",
     "text": [
      "First two values should be the same.\n",
      "****Uniform, uniform function:  0.481481481481481\n",
      "****Uniform, generic funciton:  0.48148148148148145\n",
      "Should be ~0.708\n",
      "****Nonuniform, generic function:  0.7083333333333333\n"
     ]
    }
   ],
   "source": [
    "n = 3\n",
    "k = 3\n",
    "probs = [1/2, 1/3, 1/6]\n",
    "uni_probs = [1/3, 1/3, 1/3]\n",
    "print(\"First two values should be the same.\")\n",
    "print(\"****Uniform, uniform function: \", uni_ore_bayes(n, k))\n",
    "print(\"****Uniform, generic funciton: \", nonuni_ideal_ore_post_bayes(n, k, uni_probs))\n",
    "print(\"Should be ~0.708\")\n",
    "print(\"****Nonuniform, generic function: \", nonuni_ideal_ore_post_bayes(n, k, probs))"
   ]
  },
  {
   "cell_type": "code",
   "execution_count": 228,
   "metadata": {},
   "outputs": [
    {
     "name": "stdout",
     "output_type": "stream",
     "text": [
      "First two values should be the same.\n",
      "****Uniform, uniform function:  0.292968750000000\n",
      "****Uniform, generic funciton:  0.29296875\n",
      "****Nonuniform, generic function:  0.5234375\n"
     ]
    }
   ],
   "source": [
    "n = 4\n",
    "k = 4\n",
    "probs = [1/2, 1/4, 1/8, 1/8]\n",
    "uni_probs = [1/4, 1/4, 1/4, 1/4]\n",
    "print(\"First two values should be the same.\")\n",
    "print(\"****Uniform, uniform function: \", uni_ore_bayes(n, k))\n",
    "print(\"****Uniform, generic funciton: \", nonuni_ideal_ore_post_bayes(n, k, uni_probs))\n",
    "print(\"****Nonuniform, generic function: \", nonuni_ideal_ore_post_bayes(n, k, probs))"
   ]
  },
  {
   "cell_type": "markdown",
   "metadata": {},
   "source": [
    "ppdf(n_range, k, probs) generates a dataframe (table) of n ranging from 1 to n_range of the prior and posterior Bayes vulnerability"
   ]
  },
  {
   "cell_type": "code",
   "execution_count": 7,
   "metadata": {},
   "outputs": [],
   "source": [
    "def ppdf(n_range, k, probs):\n",
    "    post_bayes_vs = []\n",
    "    prior_bayes_vs = []\n",
    "    n = []\n",
    "    i = 0\n",
    "    for x in range(n_range):\n",
    "        i = i + 1\n",
    "        n.append(i)\n",
    "        post = nonuni_ideal_ore_post_bayes(i, k, probs)\n",
    "        post_bayes_vs.append(post)\n",
    "        prior = pow(probs[0], i) # assumes ordered prior, with biggest first\n",
    "        prior_bayes_vs.append(prior)\n",
    "    df = pd.DataFrame(\n",
    "        {'n':n,\n",
    "         'prior':prior_bayes_vs,\n",
    "         'posterior':post_bayes_vs\n",
    "        }\n",
    "    )\n",
    "    return df"
   ]
  },
  {
   "cell_type": "code",
   "execution_count": 53,
   "metadata": {},
   "outputs": [],
   "source": [
    "n_range = 3\n",
    "k = 3\n",
    "probs = [1/2, 1/3, 1/6]\n",
    "df_small = ppdf(n_range, k, probs)"
   ]
  },
  {
   "cell_type": "code",
   "execution_count": 54,
   "metadata": {},
   "outputs": [
    {
     "data": {
      "text/html": [
       "<div>\n",
       "<style scoped>\n",
       "    .dataframe tbody tr th:only-of-type {\n",
       "        vertical-align: middle;\n",
       "    }\n",
       "\n",
       "    .dataframe tbody tr th {\n",
       "        vertical-align: top;\n",
       "    }\n",
       "\n",
       "    .dataframe thead th {\n",
       "        text-align: right;\n",
       "    }\n",
       "</style>\n",
       "<table border=\"1\" class=\"dataframe\">\n",
       "  <thead>\n",
       "    <tr style=\"text-align: right;\">\n",
       "      <th></th>\n",
       "      <th>n</th>\n",
       "      <th>prior</th>\n",
       "      <th>posterior</th>\n",
       "    </tr>\n",
       "  </thead>\n",
       "  <tbody>\n",
       "    <tr>\n",
       "      <th>0</th>\n",
       "      <td>1</td>\n",
       "      <td>0.500</td>\n",
       "      <td>0.5000000000</td>\n",
       "    </tr>\n",
       "    <tr>\n",
       "      <th>1</th>\n",
       "      <td>2</td>\n",
       "      <td>0.250</td>\n",
       "      <td>0.5833333333</td>\n",
       "    </tr>\n",
       "    <tr>\n",
       "      <th>2</th>\n",
       "      <td>3</td>\n",
       "      <td>0.125</td>\n",
       "      <td>0.7083333333</td>\n",
       "    </tr>\n",
       "  </tbody>\n",
       "</table>\n",
       "</div>"
      ],
      "text/plain": [
       "   n  prior     posterior\n",
       "0  1  0.500  0.5000000000\n",
       "1  2  0.250  0.5833333333\n",
       "2  3  0.125  0.7083333333"
      ]
     },
     "execution_count": 54,
     "metadata": {},
     "output_type": "execute_result"
    }
   ],
   "source": [
    "df_small"
   ]
  },
  {
   "cell_type": "markdown",
   "metadata": {},
   "source": [
    "From n = 1 to 25\n",
    "and k = 20 plaintext values\n",
    "such that the first value has probability 1/2 and 19 have equal probability 1/38"
   ]
  },
  {
   "cell_type": "code",
   "execution_count": 231,
   "metadata": {},
   "outputs": [],
   "source": [
    "n_range = 25\n",
    "k = 20\n",
    "probs = [1/2, 1/38, 1/38, 1/38, 1/38, 1/38, 1/38, 1/38, 1/38, 1/38, 1/38, 1/38, 1/38,1/38, 1/38, 1/38, 1/38, 1/38, 1/38, 1/38]\n",
    "df_half = ppdf(n_range, k, probs)"
   ]
  },
  {
   "cell_type": "code",
   "execution_count": 232,
   "metadata": {},
   "outputs": [
    {
     "data": {
      "text/html": [
       "<div>\n",
       "<style scoped>\n",
       "    .dataframe tbody tr th:only-of-type {\n",
       "        vertical-align: middle;\n",
       "    }\n",
       "\n",
       "    .dataframe tbody tr th {\n",
       "        vertical-align: top;\n",
       "    }\n",
       "\n",
       "    .dataframe thead th {\n",
       "        text-align: right;\n",
       "    }\n",
       "</style>\n",
       "<table border=\"1\" class=\"dataframe\">\n",
       "  <thead>\n",
       "    <tr style=\"text-align: right;\">\n",
       "      <th></th>\n",
       "      <th>n</th>\n",
       "      <th>prior</th>\n",
       "      <th>posterior</th>\n",
       "    </tr>\n",
       "  </thead>\n",
       "  <tbody>\n",
       "    <tr>\n",
       "      <th>0</th>\n",
       "      <td>1</td>\n",
       "      <td>0.5000000000</td>\n",
       "      <td>0.5000000000</td>\n",
       "    </tr>\n",
       "    <tr>\n",
       "      <th>1</th>\n",
       "      <td>2</td>\n",
       "      <td>0.2500000000</td>\n",
       "      <td>0.2763157895</td>\n",
       "    </tr>\n",
       "    <tr>\n",
       "      <th>2</th>\n",
       "      <td>3</td>\n",
       "      <td>0.1250000000</td>\n",
       "      <td>0.1478531856</td>\n",
       "    </tr>\n",
       "    <tr>\n",
       "      <th>3</th>\n",
       "      <td>4</td>\n",
       "      <td>0.0625000000</td>\n",
       "      <td>0.0792480682</td>\n",
       "    </tr>\n",
       "    <tr>\n",
       "      <th>4</th>\n",
       "      <td>5</td>\n",
       "      <td>0.0312500000</td>\n",
       "      <td>0.0427528468</td>\n",
       "    </tr>\n",
       "    <tr>\n",
       "      <th>5</th>\n",
       "      <td>6</td>\n",
       "      <td>0.0156250000</td>\n",
       "      <td>0.0232545793</td>\n",
       "    </tr>\n",
       "    <tr>\n",
       "      <th>6</th>\n",
       "      <td>7</td>\n",
       "      <td>0.0078125000</td>\n",
       "      <td>0.0127710946</td>\n",
       "    </tr>\n",
       "    <tr>\n",
       "      <th>7</th>\n",
       "      <td>8</td>\n",
       "      <td>0.0039062500</td>\n",
       "      <td>0.0070922206</td>\n",
       "    </tr>\n",
       "    <tr>\n",
       "      <th>8</th>\n",
       "      <td>9</td>\n",
       "      <td>0.0019531250</td>\n",
       "      <td>0.0039895670</td>\n",
       "    </tr>\n",
       "    <tr>\n",
       "      <th>9</th>\n",
       "      <td>10</td>\n",
       "      <td>0.0009765625</td>\n",
       "      <td>0.0022778794</td>\n",
       "    </tr>\n",
       "    <tr>\n",
       "      <th>10</th>\n",
       "      <td>11</td>\n",
       "      <td>0.0004882812</td>\n",
       "      <td>0.0013231145</td>\n",
       "    </tr>\n",
       "    <tr>\n",
       "      <th>11</th>\n",
       "      <td>12</td>\n",
       "      <td>0.0002441406</td>\n",
       "      <td>0.0007838941</td>\n",
       "    </tr>\n",
       "    <tr>\n",
       "      <th>12</th>\n",
       "      <td>13</td>\n",
       "      <td>0.0001220703</td>\n",
       "      <td>0.0004750783</td>\n",
       "    </tr>\n",
       "    <tr>\n",
       "      <th>13</th>\n",
       "      <td>14</td>\n",
       "      <td>0.0000610352</td>\n",
       "      <td>0.0002954434</td>\n",
       "    </tr>\n",
       "    <tr>\n",
       "      <th>14</th>\n",
       "      <td>15</td>\n",
       "      <td>0.0000305176</td>\n",
       "      <td>0.0001891447</td>\n",
       "    </tr>\n",
       "    <tr>\n",
       "      <th>15</th>\n",
       "      <td>16</td>\n",
       "      <td>0.0000152588</td>\n",
       "      <td>0.0001250628</td>\n",
       "    </tr>\n",
       "    <tr>\n",
       "      <th>16</th>\n",
       "      <td>17</td>\n",
       "      <td>0.0000076294</td>\n",
       "      <td>0.0000856633</td>\n",
       "    </tr>\n",
       "    <tr>\n",
       "      <th>17</th>\n",
       "      <td>18</td>\n",
       "      <td>0.0000038147</td>\n",
       "      <td>0.0000609461</td>\n",
       "    </tr>\n",
       "    <tr>\n",
       "      <th>18</th>\n",
       "      <td>19</td>\n",
       "      <td>0.0000019073</td>\n",
       "      <td>0.0000451329</td>\n",
       "    </tr>\n",
       "    <tr>\n",
       "      <th>19</th>\n",
       "      <td>20</td>\n",
       "      <td>0.0000009537</td>\n",
       "      <td>0.0000348385</td>\n",
       "    </tr>\n",
       "    <tr>\n",
       "      <th>20</th>\n",
       "      <td>21</td>\n",
       "      <td>0.0000004768</td>\n",
       "      <td>0.0000280523</td>\n",
       "    </tr>\n",
       "    <tr>\n",
       "      <th>21</th>\n",
       "      <td>22</td>\n",
       "      <td>0.0000002384</td>\n",
       "      <td>0.0000235648</td>\n",
       "    </tr>\n",
       "    <tr>\n",
       "      <th>22</th>\n",
       "      <td>23</td>\n",
       "      <td>0.0000001192</td>\n",
       "      <td>0.0000206422</td>\n",
       "    </tr>\n",
       "    <tr>\n",
       "      <th>23</th>\n",
       "      <td>24</td>\n",
       "      <td>0.0000000596</td>\n",
       "      <td>0.0000188401</td>\n",
       "    </tr>\n",
       "    <tr>\n",
       "      <th>24</th>\n",
       "      <td>25</td>\n",
       "      <td>0.0000000298</td>\n",
       "      <td>0.0000178965</td>\n",
       "    </tr>\n",
       "  </tbody>\n",
       "</table>\n",
       "</div>"
      ],
      "text/plain": [
       "     n         prior     posterior\n",
       "0    1  0.5000000000  0.5000000000\n",
       "1    2  0.2500000000  0.2763157895\n",
       "2    3  0.1250000000  0.1478531856\n",
       "3    4  0.0625000000  0.0792480682\n",
       "4    5  0.0312500000  0.0427528468\n",
       "5    6  0.0156250000  0.0232545793\n",
       "6    7  0.0078125000  0.0127710946\n",
       "7    8  0.0039062500  0.0070922206\n",
       "8    9  0.0019531250  0.0039895670\n",
       "9   10  0.0009765625  0.0022778794\n",
       "10  11  0.0004882812  0.0013231145\n",
       "11  12  0.0002441406  0.0007838941\n",
       "12  13  0.0001220703  0.0004750783\n",
       "13  14  0.0000610352  0.0002954434\n",
       "14  15  0.0000305176  0.0001891447\n",
       "15  16  0.0000152588  0.0001250628\n",
       "16  17  0.0000076294  0.0000856633\n",
       "17  18  0.0000038147  0.0000609461\n",
       "18  19  0.0000019073  0.0000451329\n",
       "19  20  0.0000009537  0.0000348385\n",
       "20  21  0.0000004768  0.0000280523\n",
       "21  22  0.0000002384  0.0000235648\n",
       "22  23  0.0000001192  0.0000206422\n",
       "23  24  0.0000000596  0.0000188401\n",
       "24  25  0.0000000298  0.0000178965"
      ]
     },
     "execution_count": 232,
     "metadata": {},
     "output_type": "execute_result"
    }
   ],
   "source": [
    "df_half"
   ]
  },
  {
   "cell_type": "code",
   "execution_count": 233,
   "metadata": {},
   "outputs": [],
   "source": [
    "df_half.to_csv(r'data\\df_half_n25_k20', index = None, header = True)"
   ]
  },
  {
   "cell_type": "code",
   "execution_count": null,
   "metadata": {},
   "outputs": [],
   "source": [
    "df_half = pd.read_csv('data\\df_half_n25_k20')"
   ]
  },
  {
   "cell_type": "markdown",
   "metadata": {},
   "source": [
    "## Graphs"
   ]
  },
  {
   "cell_type": "code",
   "execution_count": 8,
   "metadata": {},
   "outputs": [],
   "source": [
    "import matplotlib as mpl\n",
    "from matplotlib.ticker import MaxNLocator\n",
    "font_choice = 14\n",
    "plt.rcParams.update(plt.rcParamsDefault)\n",
    "rc_fonts = {\n",
    "    \"text.usetex\": True,\n",
    "    \"font.size\": font_choice,\n",
    "    'mathtext.default': 'regular',\n",
    "    'axes.titlesize': font_choice,\n",
    "    \"axes.labelsize\": font_choice,\n",
    "    \"legend.fontsize\": font_choice,\n",
    "    \"xtick.labelsize\": font_choice,\n",
    "    \"ytick.labelsize\": font_choice,\n",
    "    'figure.titlesize': font_choice,\n",
    "    'figure.figsize': (8,5.25),\n",
    "    'text.latex.preamble': [r'\\usepackage{amsmath,nicefrac, sansmath}', \n",
    "                            r'\\sansmath'],\n",
    "    \"font.family\": \"sans-serif\",#\"font.sans-serif\": \"computer modern\",\n",
    "    }\n",
    "mpl.rcParams.update(rc_fonts)"
   ]
  },
  {
   "cell_type": "code",
   "execution_count": 9,
   "metadata": {},
   "outputs": [],
   "source": [
    "def graph_it_bayes(n_range, k, df):\n",
    "    ax = plt.figure().gca()\n",
    "    plt.plot('n', 'prior', \n",
    "             data=df,\n",
    "             label=\"prior\")\n",
    "    plt.plot('n', 'posterior',\n",
    "             color='green',\n",
    "             data=df,\n",
    "             linestyle='--',\n",
    "             marker='', \n",
    "             label=\"posterior\")\n",
    "    ax.xaxis.set_major_locator(MaxNLocator(integer=True))\n",
    "    plt.xlabel('n')\n",
    "    plt.xlim(left = 0, right = n_range+1)\n",
    "    plt.ylabel('Bayes vulnerability')\n",
    "    plt.ylim(bottom=-.1, top = 1)\n",
    "    \n",
    "    plt.title('Bayes vulnerability under non-uniform prior, k = {}'.format(k))\n",
    "    plt.legend(loc='upper left') # legend adjusted so it doesn't run into annotations\n",
    "    plt.show()\n",
    "    plt.close()"
   ]
  },
  {
   "cell_type": "code",
   "execution_count": 234,
   "metadata": {},
   "outputs": [
    {
     "data": {
      "image/png": "[encoded data removed]",
      "text/plain": [
       "<Figure size 432x288 with 1 Axes>"
      ]
     },
     "metadata": {
      "needs_background": "light"
     },
     "output_type": "display_data"
    }
   ],
   "source": [
    "graph_it_bayes(n_range, k, df_half)"
   ]
  },
  {
   "cell_type": "code",
   "execution_count": null,
   "metadata": {},
   "outputs": [],
   "source": []
  }
 ],
 "metadata": {
  "kernelspec": {
   "display_name": "Python 3",
   "language": "python",
   "name": "python3"
  },
  "language_info": {
   "codemirror_mode": {
    "name": "ipython",
    "version": 3
   },
   "file_extension": ".py",
   "mimetype": "text/x-python",
   "name": "python",
   "nbconvert_exporter": "python",
   "pygments_lexer": "ipython3",
   "version": "3.6.7"
  }
 },
 "nbformat": 4,
 "nbformat_minor": 2
}
