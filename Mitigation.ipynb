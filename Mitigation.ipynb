{
 "cells": [
  {
   "cell_type": "markdown",
   "metadata": {},
   "source": [
    "# Mitigation"
   ]
  },
  {
   "cell_type": "code",
   "execution_count": 11,
   "metadata": {},
   "outputs": [],
   "source": [
    "import collections\n",
    "import math\n",
    "import numpy as np\n",
    "import pandas as pd\n",
    "import scipy\n",
    "from scipy.special import perm # for nPk \n",
    "from sympy.functions.combinatorial.numbers import stirling\n",
    "import matplotlib.pyplot as plt \n",
    "pd.set_option('precision', 10)\n",
    "%matplotlib inline"
   ]
  },
  {
   "cell_type": "markdown",
   "metadata": {},
   "source": [
    "## IDEAL BAYES"
   ]
  },
  {
   "cell_type": "code",
   "execution_count": 3,
   "metadata": {},
   "outputs": [],
   "source": [
    "def uni_ore_bayes(n, k):\n",
    "    outputs = 0\n",
    "    for c in range(n):\n",
    "        if k < c+1:\n",
    "            break\n",
    "        outputs = outputs + (stirling(n, c+1) * math.factorial(c+1))\n",
    "    inputs = pow(k, n)\n",
    "    return outputs / inputs"
   ]
  },
  {
   "cell_type": "markdown",
   "metadata": {},
   "source": [
    "## IDEAL BUCKET"
   ]
  },
  {
   "cell_type": "code",
   "execution_count": 4,
   "metadata": {},
   "outputs": [],
   "source": [
    "def trailing_zero(n):\n",
    "    x = int(bin(n)[2:])\n",
    "    count = 0\n",
    "    while ((x & 1 ) == 0):\n",
    "        x = x >> 1\n",
    "        count += 1\n",
    "    return count\n",
    "\n",
    "def report_number(K, I):\n",
    "    r = [[0]* (I + 1) for _ in range(K+1)]\n",
    "    r[1][1] = 1\n",
    "    for k in range(2, K+1):\n",
    "        b = trailing_zero(k-1)\n",
    "        for i in range(1, I+1):\n",
    "            r[k][i] = r[k-1][i] + r[k-1][i-1] - r[k-1- int(math.pow(2,b))][i-1]\n",
    "    return r"
   ]
  },
  {
   "cell_type": "code",
   "execution_count": 5,
   "metadata": {},
   "outputs": [],
   "source": [
    "def c_bell(i, n):\n",
    "    c = 0\n",
    "    for u in range(0, i+1):\n",
    "        c = c + pow(-1, (i-u)) * scipy.special.comb(i, u, exact = True) * pow(u, n)\n",
    "    return c\n",
    "\n",
    "def m_bell(i, n):\n",
    "    return stirling(n, i) * math.factorial(i)"
   ]
  },
  {
   "cell_type": "code",
   "execution_count": 12,
   "metadata": {},
   "outputs": [],
   "source": [
    "def g4(i, b, s):\n",
    "    f = math.floor(i/b)\n",
    "    m = i % b\n",
    "    left = pow( (scipy.special.comb(s, f+1, exact = True)) , m)\n",
    "    right = pow( (scipy.special.comb(s, f, exact = True)) , (b-m))\n",
    "    return left * right\n",
    "\n",
    "def cat4(n, k, b):\n",
    "    prior = pow(k, -n)\n",
    "    v = 0\n",
    "    for i in range(1,min(n, k)+1):\n",
    "        v = v + m_bell(i, n) * g4(i, b, k/b)\n",
    "    return v * prior\n",
    "\n",
    "def big_cat4(n, k, b): # logs to avoid overflow. Cat's ordered bell since s2 hits max recurrsion depth n = 1k\n",
    "    prior = pow(k, n) # k, -n\n",
    "    v = 0\n",
    "    for i in range(1,min(n, k)+1):\n",
    "        v = v + c_bell(i, n) * g4(i, b, k/b)\n",
    "    v_log = math.log2(v)\n",
    "    prior_log = math.log2(prior)\n",
    "    r_log = v_log - prior_log\n",
    "    r = pow(2, r_log)\n",
    "    return r"
   ]
  },
  {
   "cell_type": "markdown",
   "metadata": {},
   "source": [
    "### General Graph Code"
   ]
  },
  {
   "cell_type": "code",
   "execution_count": 7,
   "metadata": {},
   "outputs": [],
   "source": [
    "import matplotlib as mpl\n",
    "from matplotlib.ticker import MaxNLocator\n",
    "font_choice = 14\n",
    "plt.rcParams.update(plt.rcParamsDefault)\n",
    "rc_fonts = {\n",
    "    \"text.usetex\": True,\n",
    "    \"font.size\": font_choice,\n",
    "    'mathtext.default': 'regular',\n",
    "    'axes.titlesize': font_choice,\n",
    "    \"axes.labelsize\": font_choice,\n",
    "    \"legend.fontsize\": font_choice,\n",
    "    \"xtick.labelsize\": font_choice,\n",
    "    \"ytick.labelsize\": font_choice,\n",
    "    'figure.titlesize': font_choice,\n",
    "    'figure.figsize': (8,5.25),\n",
    "    'text.latex.preamble': [r'\\usepackage{amsmath,nicefrac, sansmath}', \n",
    "                            r'\\sansmath'],\n",
    "    \"font.family\": \"sans-serif\",#\"font.sans-serif\": \"computer modern\",\n",
    "    }\n",
    "mpl.rcParams.update(rc_fonts)"
   ]
  },
  {
   "cell_type": "markdown",
   "metadata": {},
   "source": [
    "#### Function of n, mitigation df"
   ]
  },
  {
   "cell_type": "code",
   "execution_count": 8,
   "metadata": {},
   "outputs": [],
   "source": [
    "def df_mit(n_range, k, b): \n",
    "    kb = k * pow(2, b)\n",
    "    n = 0\n",
    "    n_list = []\n",
    "    postIdeal_list = []\n",
    "    mitIdeal_list = []\n",
    "    for x in range(n_range):\n",
    "        n = n + 1\n",
    "        n_list.append(n)\n",
    "        ideal = uni_ore_bayes(n, k)\n",
    "        postIdeal_list.append(ideal)\n",
    "        mit = big_cat4(n, kb, k) # b = k = 8\n",
    "        mitIdeal_list.append(mit)\n",
    "    df = pd.DataFrame(\n",
    "        {'n':n_list,\n",
    "         'postIdeal':postIdeal_list,\n",
    "         'mitIdeal':mitIdeal_list\n",
    "        }\n",
    "    )\n",
    "    return df"
   ]
  },
  {
   "cell_type": "markdown",
   "metadata": {},
   "source": [
    "#### Funct of n, mitigation graph code"
   ]
  },
  {
   "cell_type": "code",
   "execution_count": 44,
   "metadata": {},
   "outputs": [],
   "source": [
    "def graph_it_mit(n_range, k, df):\n",
    "    ax = plt.figure().gca()\n",
    "    plt.plot('n', 'postIdeal',\n",
    "             color='red',\n",
    "             data=df,\n",
    "             linestyle='dotted',\n",
    "             marker='', \n",
    "             label=\"Unmitigated\")\n",
    "    plt.plot('n', 'mitIdeal',\n",
    "             color='green',\n",
    "             data=df,\n",
    "             linestyle='dashed',\n",
    "             marker='', \n",
    "             label=\"Mitigated\")\n",
    "    ax.xaxis.set_major_locator(MaxNLocator(integer=True))\n",
    "    plt.xlabel('n')\n",
    "    plt.xlim(left = 0, right = n_range+1)\n",
    "    plt.ylabel('Bayes vulnerability')\n",
    "    plt.ylim(bottom=-.1, top = 1.1)\n",
    "    \n",
    "    plt.title('Effect of Mitigation on Ideal ORE Bayes vulnerability')\n",
    "    plt.legend(loc='upper left')\n",
    "    plt.savefig('mitigation_mit.png')\n",
    "    plt.show()\n",
    "    plt.close()"
   ]
  },
  {
   "cell_type": "code",
   "execution_count": 13,
   "metadata": {},
   "outputs": [],
   "source": [
    "n_range = 100\n",
    "k = 8\n",
    "b = 3\n",
    "df_m = df_mit(n_range, k, b)"
   ]
  },
  {
   "cell_type": "code",
   "execution_count": 45,
   "metadata": {},
   "outputs": [
    {
     "data": {
      "image/png": "[encoded data removed]",
      "text/plain": [
       "<Figure size 432x288 with 1 Axes>"
      ]
     },
     "metadata": {
      "needs_background": "light"
     },
     "output_type": "display_data"
    }
   ],
   "source": [
    "graph_it_mit(n_range, k, df_m)"
   ]
  },
  {
   "cell_type": "code",
   "execution_count": 40,
   "metadata": {},
   "outputs": [
    {
     "data": {
      "text/plain": [
       "n                                                           52\n",
       "postIdeal    9072761889350821313518514321330317940661472279...\n",
       "mitIdeal                                       0.0002441711763\n",
       "Name: 51, dtype: object"
      ]
     },
     "execution_count": 40,
     "metadata": {},
     "output_type": "execute_result"
    }
   ],
   "source": [
    "df_m.iloc[51]"
   ]
  },
  {
   "cell_type": "code",
   "execution_count": null,
   "metadata": {},
   "outputs": [],
   "source": []
  }
 ],
 "metadata": {
  "kernelspec": {
   "display_name": "Python 3",
   "language": "python",
   "name": "python3"
  },
  "language_info": {
   "codemirror_mode": {
    "name": "ipython",
    "version": 3
   },
   "file_extension": ".py",
   "mimetype": "text/x-python",
   "name": "python",
   "nbconvert_exporter": "python",
   "pygments_lexer": "ipython3",
   "version": "3.6.7"
  }
 },
 "nbformat": 4,
 "nbformat_minor": 2
}
