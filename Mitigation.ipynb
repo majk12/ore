{
 "cells": [
  {
   "cell_type": "markdown",
   "metadata": {},
   "source": [
    "# Mitigation"
   ]
  },
  {
   "cell_type": "code",
   "execution_count": 1,
   "metadata": {},
   "outputs": [
    {
     "name": "stderr",
     "output_type": "stream",
     "text": [
      "\n",
      "Bad key text.latex.unicode in file C:\\Users\\mirey\\AppData\\Local\\Continuum\\anaconda3\\lib\\site-packages\\matplotlib\\mpl-data\\stylelib\\_classic_test.mplstyle, line 112 ('text.latex.unicode : False # use \"ucs\" and \"inputenc\" LaTeX packages for handling')\n",
      "You probably need to get an updated matplotlibrc file from\n",
      "https://github.com/matplotlib/matplotlib/blob/v3.3.2/matplotlibrc.template\n",
      "or from the matplotlib source distribution\n",
      "\n",
      "Bad key savefig.frameon in file C:\\Users\\mirey\\AppData\\Local\\Continuum\\anaconda3\\lib\\site-packages\\matplotlib\\mpl-data\\stylelib\\_classic_test.mplstyle, line 423 ('savefig.frameon : True')\n",
      "You probably need to get an updated matplotlibrc file from\n",
      "https://github.com/matplotlib/matplotlib/blob/v3.3.2/matplotlibrc.template\n",
      "or from the matplotlib source distribution\n",
      "\n",
      "Bad key pgf.debug in file C:\\Users\\mirey\\AppData\\Local\\Continuum\\anaconda3\\lib\\site-packages\\matplotlib\\mpl-data\\stylelib\\_classic_test.mplstyle, line 444 ('pgf.debug           : False')\n",
      "You probably need to get an updated matplotlibrc file from\n",
      "https://github.com/matplotlib/matplotlib/blob/v3.3.2/matplotlibrc.template\n",
      "or from the matplotlib source distribution\n",
      "\n",
      "Bad key verbose.level in file C:\\Users\\mirey\\AppData\\Local\\Continuum\\anaconda3\\lib\\site-packages\\matplotlib\\mpl-data\\stylelib\\_classic_test.mplstyle, line 475 ('verbose.level  : silent      # one of silent, helpful, debug, debug-annoying')\n",
      "You probably need to get an updated matplotlibrc file from\n",
      "https://github.com/matplotlib/matplotlib/blob/v3.3.2/matplotlibrc.template\n",
      "or from the matplotlib source distribution\n",
      "\n",
      "Bad key verbose.fileo in file C:\\Users\\mirey\\AppData\\Local\\Continuum\\anaconda3\\lib\\site-packages\\matplotlib\\mpl-data\\stylelib\\_classic_test.mplstyle, line 476 ('verbose.fileo  : sys.stdout  # a log filename, sys.stdout or sys.stderr')\n",
      "You probably need to get an updated matplotlibrc file from\n",
      "https://github.com/matplotlib/matplotlib/blob/v3.3.2/matplotlibrc.template\n",
      "or from the matplotlib source distribution\n",
      "In C:\\Users\\mirey\\AppData\\Local\\Continuum\\anaconda3\\lib\\site-packages\\matplotlib\\mpl-data\\stylelib\\_classic_test.mplstyle: \n",
      "The text.latex.preview rcparam was deprecated in Matplotlib 3.3 and will be removed two minor releases later.\n",
      "In C:\\Users\\mirey\\AppData\\Local\\Continuum\\anaconda3\\lib\\site-packages\\matplotlib\\mpl-data\\stylelib\\_classic_test.mplstyle: \n",
      "The mathtext.fallback_to_cm rcparam was deprecated in Matplotlib 3.3 and will be removed two minor releases later.\n",
      "In C:\\Users\\mirey\\AppData\\Local\\Continuum\\anaconda3\\lib\\site-packages\\matplotlib\\mpl-data\\stylelib\\_classic_test.mplstyle: Support for setting the 'mathtext.fallback_to_cm' rcParam is deprecated since 3.3 and will be removed two minor releases later; use 'mathtext.fallback : 'cm' instead.\n",
      "In C:\\Users\\mirey\\AppData\\Local\\Continuum\\anaconda3\\lib\\site-packages\\matplotlib\\mpl-data\\stylelib\\_classic_test.mplstyle: \n",
      "The validate_bool_maybe_none function was deprecated in Matplotlib 3.3 and will be removed two minor releases later.\n",
      "In C:\\Users\\mirey\\AppData\\Local\\Continuum\\anaconda3\\lib\\site-packages\\matplotlib\\mpl-data\\stylelib\\_classic_test.mplstyle: \n",
      "The savefig.jpeg_quality rcparam was deprecated in Matplotlib 3.3 and will be removed two minor releases later.\n",
      "In C:\\Users\\mirey\\AppData\\Local\\Continuum\\anaconda3\\lib\\site-packages\\matplotlib\\mpl-data\\stylelib\\_classic_test.mplstyle: \n",
      "The keymap.all_axes rcparam was deprecated in Matplotlib 3.3 and will be removed two minor releases later.\n",
      "In C:\\Users\\mirey\\AppData\\Local\\Continuum\\anaconda3\\lib\\site-packages\\matplotlib\\mpl-data\\stylelib\\_classic_test.mplstyle: \n",
      "The animation.avconv_path rcparam was deprecated in Matplotlib 3.3 and will be removed two minor releases later.\n",
      "In C:\\Users\\mirey\\AppData\\Local\\Continuum\\anaconda3\\lib\\site-packages\\matplotlib\\mpl-data\\stylelib\\_classic_test.mplstyle: \n",
      "The animation.avconv_args rcparam was deprecated in Matplotlib 3.3 and will be removed two minor releases later.\n"
     ]
    }
   ],
   "source": [
    "import collections\n",
    "import math\n",
    "import numpy as np\n",
    "import pandas as pd\n",
    "import scipy\n",
    "from scipy.special import perm # for nPk \n",
    "from sympy.functions.combinatorial.numbers import stirling\n",
    "import matplotlib.pyplot as plt "
   ]
  },
  {
   "cell_type": "markdown",
   "metadata": {},
   "source": [
    "## IDEAL BAYES"
   ]
  },
  {
   "cell_type": "code",
   "execution_count": 3,
   "metadata": {},
   "outputs": [],
   "source": [
    "def uni_ore_bayes(n, k):\n",
    "    outputs = 0\n",
    "    for c in range(n):\n",
    "        if k < c+1:\n",
    "            break\n",
    "        outputs = outputs + (stirling(n, c+1) * math.factorial(c+1))\n",
    "    inputs = pow(k, n)\n",
    "    return outputs / inputs"
   ]
  },
  {
   "cell_type": "markdown",
   "metadata": {},
   "source": [
    "## IDEAL BUCKET"
   ]
  },
  {
   "cell_type": "code",
   "execution_count": 4,
   "metadata": {},
   "outputs": [],
   "source": [
    "def trailing_zero(n):\n",
    "    x = int(bin(n)[2:])\n",
    "    count = 0\n",
    "    while ((x & 1 ) == 0):\n",
    "        x = x >> 1\n",
    "        count += 1\n",
    "    return count\n",
    "\n",
    "def report_number(K, I):\n",
    "    r = [[0]* (I + 1) for _ in range(K+1)]\n",
    "    r[1][1] = 1\n",
    "    for k in range(2, K+1):\n",
    "        b = trailing_zero(k-1)\n",
    "        for i in range(1, I+1):\n",
    "            r[k][i] = r[k-1][i] + r[k-1][i-1] - r[k-1- int(math.pow(2,b))][i-1]\n",
    "    return r"
   ]
  },
  {
   "cell_type": "code",
   "execution_count": 5,
   "metadata": {},
   "outputs": [],
   "source": [
    "def c_bell(i, n):\n",
    "    c = 0\n",
    "    for u in range(0, i+1):\n",
    "        c = c + pow(-1, (i-u)) * scipy.special.comb(i, u, exact = True) * pow(u, n)\n",
    "    return c\n",
    "\n",
    "def m_bell(i, n):\n",
    "    return stirling(n, i) * math.factorial(i)"
   ]
  },
  {
   "cell_type": "code",
   "execution_count": 6,
   "metadata": {},
   "outputs": [],
   "source": [
    "def g4(i, b, s):\n",
    "    f = math.floor(i/b)\n",
    "    m = i % b\n",
    "    left = pow( (scipy.special.comb(s, f+1, exact = True)) , m)\n",
    "    right = pow( (scipy.special.comb(s, f, exact = True)) , (b-m))\n",
    "    return left * right\n",
    "\n",
    "def cat4(n, k, b):\n",
    "    prior = pow(k, -n)\n",
    "    v = 0\n",
    "    for i in range(1,min(n, k)+1):\n",
    "        v = v + m_bell(i, n) * g4(i, b, k/b)\n",
    "    return v * prior\n",
    "\n",
    "def big_cat4(n, k, b): # logs to avoid overflow. Cat's ordered bell since s2 hits max recurrsion depth n = 1k #fixed this with sympy update but won't change\n",
    "    prior = pow(k, n) # k, -n\n",
    "    v = 0\n",
    "    for i in range(1,min(n, k)+1):\n",
    "        v = v + c_bell(i, n) * g4(i, b, k/b)\n",
    "    v_log = math.log2(v)\n",
    "    prior_log = math.log2(prior)\n",
    "    r_log = v_log - prior_log\n",
    "    r = pow(2, r_log)\n",
    "    return r"
   ]
  },
  {
   "cell_type": "markdown",
   "metadata": {},
   "source": [
    "without mitigation"
   ]
  },
  {
   "cell_type": "code",
   "execution_count": 7,
   "metadata": {},
   "outputs": [
    {
     "name": "stdout",
     "output_type": "stream",
     "text": [
      "tests comparing p vuln\n",
      "Bayes: \n",
      "1.00000000000000\n",
      "Bucket, b = 8: \n",
      "1.0\n"
     ]
    }
   ],
   "source": [
    "print(\"tests comparing p vuln\")\n",
    "n = 3000\n",
    "k = 64\n",
    "b = 8 # the number of buckets\n",
    "print(\"Bayes: \")\n",
    "print(round(uni_ore_bayes(n, k), 5))\n",
    "print(\"Bucket, b = 8: \")\n",
    "print(big_cat4(n, k, b))"
   ]
  },
  {
   "cell_type": "code",
   "execution_count": 59,
   "metadata": {},
   "outputs": [
    {
     "name": "stdout",
     "output_type": "stream",
     "text": [
      "Bucket, b =  512\n",
      "2.06e-05\n",
      "Bucket, b =  256\n",
      "2.11e-05\n",
      "Bucket, b =  128\n",
      "2.21e-05\n",
      "Bucket, b =  64\n",
      "2.45e-05\n",
      "Bucket, b =  32\n",
      "3.12e-05\n",
      "Bucket, b =  16\n",
      "6.73e-05\n",
      "Bucket, b =  8\n",
      "1.46e-03\n",
      "Bucket, b =  4\n",
      "2.93e-02\n",
      "Bucket, b =  2\n",
      "2.47e-01\n"
     ]
    }
   ],
   "source": [
    "n = 2000\n",
    "k = 512\n",
    "b_list = [512, 256, 128, 64, 32, 16, 8, 4, 2]# the number of buckets\n",
    "for b in b_list:\n",
    "    print(\"Bucket, b = \", b)\n",
    "    c = big_cat4(n, k, b)\n",
    "    sc_c = \"{:.2e}\".format(c)\n",
    "    print(sc_c)"
   ]
  },
  {
   "cell_type": "code",
   "execution_count": 28,
   "metadata": {},
   "outputs": [
    {
     "name": "stdout",
     "output_type": "stream",
     "text": [
      "tests comparing p vuln with 3 bits of mitigation\n",
      "Bayes: \n",
      "vlog:  26997.91771315176\n",
      "prior_log 27000.0\n",
      "0.23613980436497264\n",
      "Bucket, b = 8: \n",
      "vlog:  26998.178503987034\n",
      "prior_log 27000.0\n",
      "0.28292743552547456\n"
     ]
    }
   ],
   "source": [
    "print(\"tests comparing p vuln with 3 bits of mitigation\")\n",
    "n = 3000\n",
    "k = 64\n",
    "b = 8 # the number of buckets\n",
    "print(\"Bayes: \")\n",
    "print(big_cat4(n, 512, k)) # values now range from 0-511 (9 bits), k buckets (the original k values)\n",
    "print(\"Bucket, b = 8: \")\n",
    "print(big_cat4(n, 512, b)) # k has increased to 2^9, still only care about first b buckets"
   ]
  },
  {
   "cell_type": "markdown",
   "metadata": {},
   "source": [
    "### General Graph Code"
   ]
  },
  {
   "cell_type": "code",
   "execution_count": 7,
   "metadata": {},
   "outputs": [
    {
     "name": "stderr",
     "output_type": "stream",
     "text": [
      "C:\\Users\\mirey\\AppData\\Local\\Continuum\\anaconda3\\lib\\_collections_abc.py:841: MatplotlibDeprecationWarning: Support for setting the 'text.latex.preamble' or 'pgf.preamble' rcParam to a list of strings is deprecated since 3.3 and will be removed two minor releases later; set it to a single string instead.\n",
      "  self[key] = other[key]\n"
     ]
    }
   ],
   "source": [
    "import matplotlib as mpl\n",
    "from matplotlib.ticker import MaxNLocator\n",
    "font_choice = 14\n",
    "plt.rcParams.update(plt.rcParamsDefault)\n",
    "rc_fonts = {\n",
    "    \"text.usetex\": True,\n",
    "    \"font.size\": font_choice,\n",
    "    'mathtext.default': 'regular',\n",
    "    'axes.titlesize': font_choice,\n",
    "    \"axes.labelsize\": font_choice,\n",
    "    \"legend.fontsize\": font_choice,\n",
    "    \"xtick.labelsize\": font_choice,\n",
    "    \"ytick.labelsize\": font_choice,\n",
    "    'figure.titlesize': font_choice,\n",
    "    'figure.figsize': (8,5.25),\n",
    "    'text.latex.preamble': [r'\\usepackage{amsmath,nicefrac, sansmath}', \n",
    "                            r'\\sansmath'],\n",
    "    \"font.family\": \"sans-serif\",#\"font.sans-serif\": \"computer modern\",\n",
    "    }\n",
    "mpl.rcParams.update(rc_fonts)"
   ]
  },
  {
   "cell_type": "markdown",
   "metadata": {},
   "source": [
    "#### Bayes- Function of n, mitigation df"
   ]
  },
  {
   "cell_type": "code",
   "execution_count": 20,
   "metadata": {},
   "outputs": [],
   "source": [
    "def df_mit(n_range, k, b): \n",
    "    kb = k * pow(2, b)\n",
    "    n = 0\n",
    "    n_list = []\n",
    "    postIdeal_list = []\n",
    "    mitIdeal_list = []\n",
    "    for x in range(n_range):\n",
    "        n = n + 1\n",
    "        n_list.append(n)\n",
    "        ideal = uni_ore_bayes(n, k)\n",
    "        postIdeal_list.append(ideal)\n",
    "        mit = big_cat4(n, kb, k) # b = k = 8\n",
    "        mitIdeal_list.append(mit)\n",
    "    df = pd.DataFrame(\n",
    "        {'n':n_list,\n",
    "         'postIdeal':postIdeal_list,\n",
    "         'mitIdeal':mitIdeal_list\n",
    "        }\n",
    "    )\n",
    "    return df"
   ]
  },
  {
   "cell_type": "code",
   "execution_count": 25,
   "metadata": {},
   "outputs": [],
   "source": [
    "def df_mit_range(n_range, k): # hardcoded for b = 1-3 \n",
    "    kb1 = k * pow(2, 1)\n",
    "    kb2 = k * pow(2, 2)\n",
    "    kb3 = k * pow(2, 3)\n",
    "    n = 0\n",
    "    n_list = []\n",
    "    postIdeal_list = []\n",
    "    mitIdeal_list1 = []\n",
    "    mitIdeal_list2 = []\n",
    "    mitIdeal_list3 = []\n",
    "    for x in range(n_range):\n",
    "        n = n + 1\n",
    "        if n % 20 == 0: print(\"n : \", n)\n",
    "        n_list.append(n)\n",
    "        ideal = uni_ore_bayes(n, k)\n",
    "        postIdeal_list.append(ideal)\n",
    "        mit1 = big_cat4(n, kb1, k)\n",
    "        mitIdeal_list1.append(mit1)\n",
    "        mit2 = big_cat4(n, kb2, k)\n",
    "        mitIdeal_list2.append(mit2)\n",
    "        mit3 = big_cat4(n, kb3, k)\n",
    "        mitIdeal_list3.append(mit3)\n",
    "    df = pd.DataFrame(\n",
    "        {'n':n_list,\n",
    "         'postIdeal':postIdeal_list,\n",
    "         'mitIdeal1':mitIdeal_list1,\n",
    "         'mitIdeal2':mitIdeal_list2,\n",
    "         'mitIdeal3':mitIdeal_list3,\n",
    "        }\n",
    "    )\n",
    "    return df"
   ]
  },
  {
   "cell_type": "markdown",
   "metadata": {},
   "source": [
    "Run to generate dataframe. Takes time for large n and k"
   ]
  },
  {
   "cell_type": "code",
   "execution_count": 26,
   "metadata": {},
   "outputs": [
    {
     "name": "stdout",
     "output_type": "stream",
     "text": [
      "n :  20\n"
     ]
    }
   ],
   "source": [
    "n_range = 30\n",
    "k = 8\n",
    "df_test = df_mit_range(n_range, k)"
   ]
  },
  {
   "cell_type": "code",
   "execution_count": 18,
   "metadata": {},
   "outputs": [],
   "source": [
    "df_brange64.to_csv(r'data\\mit_bayes_n1000_k64.csv', index = None, header=True)"
   ]
  },
  {
   "cell_type": "code",
   "execution_count": 23,
   "metadata": {},
   "outputs": [],
   "source": [
    "df_brangek64n3000.to_csv(r'data\\mit_bayes_n3000_k64.csv', index = None, header=True)"
   ]
  },
  {
   "cell_type": "code",
   "execution_count": 13,
   "metadata": {},
   "outputs": [],
   "source": [
    "df_brange.to_csv(r'data\\mit_bayes_n1000_k128.csv', index = None, header=True)"
   ]
  },
  {
   "cell_type": "markdown",
   "metadata": {},
   "source": [
    "Read from dataframe"
   ]
  },
  {
   "cell_type": "code",
   "execution_count": 2,
   "metadata": {},
   "outputs": [],
   "source": [
    "df_bayes = pd.read_csv(r'data\\mit_bayes_n3000_k64.csv')"
   ]
  },
  {
   "cell_type": "code",
   "execution_count": 6,
   "metadata": {},
   "outputs": [],
   "source": [
    "def convert_to_float(frac_str):\n",
    "    try:\n",
    "        return float(frac_str)\n",
    "    except ValueError:\n",
    "        try:\n",
    "            num, denom = frac_str.split('/')\n",
    "        except ValueError:\n",
    "            return None\n",
    "        '''\n",
    "        try:\n",
    "            leading, num = num.split(' ')\n",
    "        except ValueError:\n",
    "            return float(num) / float(denom)        \n",
    "        if float(leading) < 0:\n",
    "            sign_mult = -1\n",
    "        else:\n",
    "            sign_mult = 1\n",
    "        #return float(leading) + sign_mult * (float(num) / float(denom))\n",
    "        '''\n",
    "        \n",
    "        return (int(num) / int(denom))"
   ]
  },
  {
   "cell_type": "markdown",
   "metadata": {},
   "source": [
    "convert_to_float('1/6')"
   ]
  },
  {
   "cell_type": "code",
   "execution_count": 7,
   "metadata": {},
   "outputs": [],
   "source": [
    "df_bayes = df_bayes.assign(mitIdeal0 = lambda x: x['postIdeal'].apply(lambda y: convert_to_float(y)))"
   ]
  },
  {
   "cell_type": "code",
   "execution_count": 17,
   "metadata": {},
   "outputs": [
    {
     "data": {
      "text/plain": [
       "n                                                         1000\n",
       "postIdeal    1513456782005501189672625856798113061965403089...\n",
       "mitIdeal1                                             0.951679\n",
       "mitIdeal2                                           0.00503641\n",
       "mitIdeal3                                          2.52275e-26\n",
       "mitIdeal0                                             0.999991\n",
       "Name: 999, dtype: object"
      ]
     },
     "execution_count": 17,
     "metadata": {},
     "output_type": "execute_result"
    }
   ],
   "source": [
    "df_bayes.iloc[999]"
   ]
  },
  {
   "cell_type": "code",
   "execution_count": null,
   "metadata": {},
   "outputs": [],
   "source": []
  },
  {
   "cell_type": "markdown",
   "metadata": {},
   "source": [
    "works on DF with the mitIdeal0 column"
   ]
  },
  {
   "cell_type": "code",
   "execution_count": 141,
   "metadata": {},
   "outputs": [],
   "source": [
    "def graph_bayes3(n_range, df):\n",
    "    ax = plt.figure().gca()\n",
    "    plt.plot('n', 'mitIdeal0',\n",
    "             color='red',\n",
    "             linestyle='dotted',\n",
    "             data=df, \n",
    "             label=\"0 bits\")\n",
    "    plt.plot('n', 'mitIdeal1',\n",
    "             data=df,\n",
    "             color='orange',\n",
    "             linestyle='dashed',\n",
    "             label=\"1 bit\")\n",
    "    plt.plot('n', 'mitIdeal2',\n",
    "             data=df,\n",
    "             color='blue',\n",
    "             linestyle='dashdot',\n",
    "             label=\"2 bits\")\n",
    "    plt.plot('n', 'mitIdeal3',\n",
    "             data=df,\n",
    "             color='green',\n",
    "             linestyle='solid',\n",
    "             label=\"3 bits\")\n",
    "    \n",
    "    ax.xaxis.set_major_locator(MaxNLocator(integer=True))\n",
    "    plt.xlabel('n')\n",
    "    plt.xticks([500, 1000, 1500, 2000, 2500, 3000])\n",
    "    plt.xlim(left = -15, right = n_range + 10)\n",
    "    plt.ylabel('Bayes vulnerability')\n",
    "    plt.ylim(bottom=-.1, top = 1.1)\n",
    "    \n",
    "    plt.title('Effect of Mitigation on Ideal ORE Bayes vulnerability, k = 64')\n",
    "    plt.legend(loc='upper left')\n",
    "    #plt.savefig('why.png')\n",
    "    plt.show()\n",
    "    plt.close()"
   ]
  },
  {
   "cell_type": "code",
   "execution_count": 142,
   "metadata": {
    "scrolled": false
   },
   "outputs": [
    {
     "data": {
      "image/png": "[encoded data removed]",
      "text/plain": [
       "<Figure size 800x525 with 1 Axes>"
      ]
     },
     "metadata": {},
     "output_type": "display_data"
    }
   ],
   "source": [
    "graph_bayes3(3000, df_bayes)"
   ]
  },
  {
   "cell_type": "markdown",
   "metadata": {},
   "source": [
    "### BUCKETING MITIGATION"
   ]
  },
  {
   "cell_type": "markdown",
   "metadata": {},
   "source": [
    "k = 8, b = 4, func of n. Ideal bucketing 0 added bits, 1 - 3 bits, match bayes"
   ]
  },
  {
   "cell_type": "markdown",
   "metadata": {},
   "source": [
    "#### Bucket- Function of n, mitigation df"
   ]
  },
  {
   "cell_type": "code",
   "execution_count": 8,
   "metadata": {},
   "outputs": [],
   "source": [
    "def df_mit_range_buck(n_range, k, b): # hardcoded for 1-3 added bits\n",
    "    kb1 = k * pow(2, 1)\n",
    "    kb2 = k * pow(2, 2)\n",
    "    kb3 = k * pow(2, 3)\n",
    "    n = 0\n",
    "    n_list = []\n",
    "    postIdeal_list = []\n",
    "    mitIdeal_list1 = []\n",
    "    mitIdeal_list2 = []\n",
    "    mitIdeal_list3 = []\n",
    "    for x in range(n_range):\n",
    "        n = n + 1\n",
    "        if n % 20 == 0: print(\"n: \", n)\n",
    "        n_list.append(n) # column is always n\n",
    "        ideal = big_cat4(n, k, b) # k values, with b buckets (b = 4)\n",
    "        postIdeal_list.append(ideal) \n",
    "        mit1 = big_cat4(n, kb1, b) # kb1 values, with b buckets?\n",
    "        mitIdeal_list1.append(mit1)\n",
    "        mit2 = big_cat4(n, kb2, b)\n",
    "        mitIdeal_list2.append(mit2)\n",
    "        mit3 = big_cat4(n, kb3, b)\n",
    "        mitIdeal_list3.append(mit3)\n",
    "    df = pd.DataFrame(\n",
    "        {'n':n_list,\n",
    "         'postIdeal':postIdeal_list,\n",
    "         'mitIdeal1':mitIdeal_list1,\n",
    "         'mitIdeal2':mitIdeal_list2,\n",
    "         'mitIdeal3':mitIdeal_list3,\n",
    "        }\n",
    "    )\n",
    "    return df"
   ]
  },
  {
   "cell_type": "code",
   "execution_count": 145,
   "metadata": {},
   "outputs": [
    {
     "name": "stdout",
     "output_type": "stream",
     "text": [
      "n:  20\n",
      "n:  40\n",
      "n:  60\n",
      "n:  80\n",
      "n:  100\n",
      "n:  120\n",
      "n:  140\n",
      "n:  160\n",
      "n:  180\n",
      "n:  200\n",
      "n:  220\n",
      "n:  240\n",
      "n:  260\n",
      "n:  280\n",
      "n:  300\n",
      "n:  320\n",
      "n:  340\n",
      "n:  360\n",
      "n:  380\n",
      "n:  400\n",
      "n:  420\n",
      "n:  440\n",
      "n:  460\n",
      "n:  480\n",
      "n:  500\n",
      "n:  520\n",
      "n:  540\n",
      "n:  560\n",
      "n:  580\n",
      "n:  600\n",
      "n:  620\n",
      "n:  640\n",
      "n:  660\n",
      "n:  680\n",
      "n:  700\n",
      "n:  720\n",
      "n:  740\n",
      "n:  760\n",
      "n:  780\n",
      "n:  800\n",
      "n:  820\n",
      "n:  840\n",
      "n:  860\n",
      "n:  880\n",
      "n:  900\n",
      "n:  920\n",
      "n:  940\n",
      "n:  960\n",
      "n:  980\n",
      "n:  1000\n",
      "n:  1020\n",
      "n:  1040\n",
      "n:  1060\n",
      "n:  1080\n",
      "n:  1100\n",
      "n:  1120\n",
      "n:  1140\n",
      "n:  1160\n",
      "n:  1180\n",
      "n:  1200\n",
      "n:  1220\n",
      "n:  1240\n",
      "n:  1260\n",
      "n:  1280\n",
      "n:  1300\n",
      "n:  1320\n",
      "n:  1340\n",
      "n:  1360\n",
      "n:  1380\n",
      "n:  1400\n",
      "n:  1420\n",
      "n:  1440\n",
      "n:  1460\n",
      "n:  1480\n",
      "n:  1500\n",
      "n:  1520\n",
      "n:  1540\n",
      "n:  1560\n",
      "n:  1580\n",
      "n:  1600\n",
      "n:  1620\n",
      "n:  1640\n",
      "n:  1660\n",
      "n:  1680\n",
      "n:  1700\n",
      "n:  1720\n",
      "n:  1740\n",
      "n:  1760\n",
      "n:  1780\n",
      "n:  1800\n",
      "n:  1820\n",
      "n:  1840\n",
      "n:  1860\n",
      "n:  1880\n",
      "n:  1900\n",
      "n:  1920\n",
      "n:  1940\n",
      "n:  1960\n",
      "n:  1980\n",
      "n:  2000\n",
      "n:  2020\n",
      "n:  2040\n",
      "n:  2060\n",
      "n:  2080\n",
      "n:  2100\n",
      "n:  2120\n",
      "n:  2140\n",
      "n:  2160\n",
      "n:  2180\n",
      "n:  2200\n",
      "n:  2220\n",
      "n:  2240\n",
      "n:  2260\n",
      "n:  2280\n",
      "n:  2300\n",
      "n:  2320\n",
      "n:  2340\n",
      "n:  2360\n",
      "n:  2380\n",
      "n:  2400\n",
      "n:  2420\n",
      "n:  2440\n",
      "n:  2460\n",
      "n:  2480\n",
      "n:  2500\n",
      "n:  2520\n",
      "n:  2540\n",
      "n:  2560\n",
      "n:  2580\n",
      "n:  2600\n",
      "n:  2620\n",
      "n:  2640\n",
      "n:  2660\n",
      "n:  2680\n",
      "n:  2700\n",
      "n:  2720\n",
      "n:  2740\n",
      "n:  2760\n",
      "n:  2780\n",
      "n:  2800\n",
      "n:  2820\n",
      "n:  2840\n",
      "n:  2860\n",
      "n:  2880\n",
      "n:  2900\n",
      "n:  2920\n",
      "n:  2940\n",
      "n:  2960\n",
      "n:  2980\n",
      "n:  3000\n"
     ]
    }
   ],
   "source": [
    "n_range = 3000\n",
    "k = 64\n",
    "b = 8\n",
    "df_brange_buck = df_mit_range_buck(n_range, k, b)"
   ]
  },
  {
   "cell_type": "code",
   "execution_count": 146,
   "metadata": {},
   "outputs": [],
   "source": [
    "df_brange_buck.to_csv(r'data\\mit_bucket_n3000_k64_b8.csv', index = None, header=True)"
   ]
  },
  {
   "cell_type": "markdown",
   "metadata": {},
   "source": [
    "#### Bucket- Funct of n, mitigation graph code"
   ]
  },
  {
   "cell_type": "code",
   "execution_count": 149,
   "metadata": {},
   "outputs": [],
   "source": [
    "def graph_it_mit_range_buck(n_range, df):\n",
    "    ax = plt.figure().gca()\n",
    "    plt.plot('n', 'postIdeal',\n",
    "             color='red',\n",
    "             linestyle='dotted',\n",
    "             data=df, \n",
    "             label=\"0 bits\")\n",
    "    plt.plot('n', 'mitIdeal1',\n",
    "             data=df,\n",
    "             color='orange',\n",
    "             linestyle='dashed',\n",
    "             label=\"1 bit\")\n",
    "    plt.plot('n', 'mitIdeal2',\n",
    "             data=df,\n",
    "             color='blue',\n",
    "             linestyle='dashdot',\n",
    "             label=\"2 bits\")\n",
    "    plt.plot('n', 'mitIdeal3',\n",
    "             data=df,\n",
    "             color='green',\n",
    "             linestyle='solid',\n",
    "             label=\"3 bits\")\n",
    "    ax.xaxis.set_major_locator(MaxNLocator(integer=True))\n",
    "    plt.xlabel('n')\n",
    "    plt.xticks([500, 1000, 1500, 2000, 2500, 3000])\n",
    "    plt.xlim(left = 0, right = n_range+1)\n",
    "    plt.ylabel('Bucket vulnerability')\n",
    "    plt.ylim(bottom=-.1, top = 1.1)\n",
    "    \n",
    "    plt.title('Effect of Mitigation on Ideal ORE Bucket vulnerability, k = 64, b = 8')\n",
    "    plt.legend(loc='upper left')\n",
    "    #plt.savefig('mitigation_mit.png')\n",
    "    plt.show()\n",
    "    plt.close()"
   ]
  },
  {
   "cell_type": "code",
   "execution_count": 150,
   "metadata": {
    "scrolled": false
   },
   "outputs": [
    {
     "data": {
      "image/png": "[encoded data removed]",
      "text/plain": [
       "<Figure size 800x525 with 1 Axes>"
      ]
     },
     "metadata": {},
     "output_type": "display_data"
    }
   ],
   "source": [
    "graph_it_mit_range_buck(n_range, df_brange_buck)"
   ]
  },
  {
   "cell_type": "markdown",
   "metadata": {},
   "source": [
    "### Ideal Bucketing"
   ]
  },
  {
   "cell_type": "code",
   "execution_count": 9,
   "metadata": {},
   "outputs": [],
   "source": [
    "n_list = [500, 1000, 1500, 2000, 2500, 3000]\n",
    "b_list = [512, 256, 128, 64, 32, 16, 8, 4, 2]"
   ]
  },
  {
   "cell_type": "code",
   "execution_count": null,
   "metadata": {},
   "outputs": [],
   "source": [
    "v_list = "
   ]
  }
 ],
 "metadata": {
  "kernelspec": {
   "display_name": "Python 3",
   "language": "python",
   "name": "python3"
  },
  "language_info": {
   "codemirror_mode": {
    "name": "ipython",
    "version": 3
   },
   "file_extension": ".py",
   "mimetype": "text/x-python",
   "name": "python",
   "nbconvert_exporter": "python",
   "pygments_lexer": "ipython3",
   "version": "3.6.12"
  }
 },
 "nbformat": 4,
 "nbformat_minor": 2
}
