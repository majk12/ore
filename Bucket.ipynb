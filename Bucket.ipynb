{
 "cells": [
  {
   "cell_type": "code",
   "execution_count": 1,
   "metadata": {},
   "outputs": [],
   "source": [
    "import collections\n",
    "import math \n",
    "import pandas as pd\n",
    "import numpy as np\n",
    "import scipy\n",
    "from scipy.special import perm, comb # for nPk \n",
    "from sympy.functions.combinatorial.numbers import stirling\n",
    "import matplotlib.pyplot as plt \n",
    "pd.set_option('precision', 10)\n",
    "%matplotlib inline"
   ]
  },
  {
   "cell_type": "markdown",
   "metadata": {},
   "source": [
    "## Functions"
   ]
  },
  {
   "cell_type": "code",
   "execution_count": 2,
   "metadata": {},
   "outputs": [],
   "source": [
    "def trailing_zero(n):\n",
    "    x = int(bin(n)[2:])\n",
    "    count = 0\n",
    "    while ((x & 1 ) == 0):\n",
    "        x = x >> 1\n",
    "        count += 1\n",
    "    return count\n",
    "\n",
    "def report_number(K, I):\n",
    "    r = [[0]* (I + 1) for _ in range(K+1)]\n",
    "    r[1][1] = 1\n",
    "    for k in range(2, K+1):\n",
    "        b = trailing_zero(k-1)\n",
    "        for i in range(1, I+1):\n",
    "            r[k][i] = r[k-1][i] + r[k-1][i-1] - r[k-1- int(math.pow(2,b))][i-1]\n",
    "    return r"
   ]
  },
  {
   "cell_type": "code",
   "execution_count": 3,
   "metadata": {},
   "outputs": [],
   "source": [
    "I = 300\n",
    "K = 300\n",
    "a = report_number(K, I)"
   ]
  },
  {
   "cell_type": "markdown",
   "metadata": {},
   "source": [
    "Both c_bell and m_bell functions calcualte the ordered bell numbers"
   ]
  },
  {
   "cell_type": "code",
   "execution_count": 13,
   "metadata": {},
   "outputs": [],
   "source": [
    "def c_bell(i, n):\n",
    "    c = 0\n",
    "    for u in range(0, i+1):\n",
    "        c = c + pow(-1, (i-u)) * scipy.special.comb(i, u, exact = True) * pow(u, n)\n",
    "    return c"
   ]
  },
  {
   "cell_type": "code",
   "execution_count": 6,
   "metadata": {},
   "outputs": [],
   "source": [
    "def m_bell(i, n):\n",
    "    return stirling(n, i) * math.factorial(i)"
   ]
  },
  {
   "cell_type": "code",
   "execution_count": 3,
   "metadata": {},
   "outputs": [],
   "source": [
    "def uni_ore_bayes(n, k):\n",
    "    outputs = 0\n",
    "    for c in range(n):\n",
    "        if k < c+1:\n",
    "            break\n",
    "        outputs = outputs + (stirling(n, c+1) * math.factorial(c+1))\n",
    "    inputs = pow(k, n)\n",
    "    return outputs / inputs"
   ]
  },
  {
   "cell_type": "code",
   "execution_count": 19,
   "metadata": {},
   "outputs": [],
   "source": [
    "def uni_ore_clww_bayes(n, k, M):\n",
    "    outputs = 0\n",
    "    for i in range(n):\n",
    "        if k < i+1:\n",
    "            break\n",
    "        outputs = outputs + c_bell(i+1, n) * M[k][i+1]\n",
    "    inputs = pow(k, n)\n",
    "    return outputs / inputs"
   ]
  },
  {
   "cell_type": "code",
   "execution_count": 6,
   "metadata": {},
   "outputs": [
    {
     "name": "stdout",
     "output_type": "stream",
     "text": [
      "16801/1048576\n"
     ]
    }
   ],
   "source": [
    "n = 5\n",
    "k = 16\n",
    "M = a\n",
    "print(uni_ore_clww_bayes(n, k, M))"
   ]
  },
  {
   "cell_type": "markdown",
   "metadata": {},
   "source": [
    "## Ideal Bucket"
   ]
  },
  {
   "cell_type": "code",
   "execution_count": 5,
   "metadata": {},
   "outputs": [],
   "source": [
    "def g4(i, b, s):\n",
    "    f = math.floor(i/b)\n",
    "    m = i % b\n",
    "    left = pow( (scipy.special.comb(s, f+1, exact = True)) , m)\n",
    "    right = pow( (scipy.special.comb(s, f, exact = True)) , (b-m))\n",
    "    return left * right"
   ]
  },
  {
   "cell_type": "code",
   "execution_count": null,
   "metadata": {},
   "outputs": [],
   "source": [
    "def cat4(n, k, b):\n",
    "    prior = pow(k, -n)\n",
    "    v = 0\n",
    "    for i in range(1,min(n, k)+1):\n",
    "        v = v + m_bell(i, n) * g4(i, b, k/b)\n",
    "    return v * prior"
   ]
  },
  {
   "cell_type": "code",
   "execution_count": 8,
   "metadata": {},
   "outputs": [
    {
     "name": "stdout",
     "output_type": "stream",
     "text": [
      "0.195227945223451\n"
     ]
    }
   ],
   "source": [
    "print(cat4(10, 8, 4))"
   ]
  },
  {
   "cell_type": "markdown",
   "metadata": {},
   "source": [
    "big_cat4 uses logs so v * r doesn't result in a \"int cannot be converted to float\" overflow error. It also uses Catuscia's ordered bell number equation since the m_bell one uses stirling2, which reaches a max recurrsion depth when n = 1k."
   ]
  },
  {
   "cell_type": "code",
   "execution_count": 35,
   "metadata": {},
   "outputs": [],
   "source": [
    "def big_cat4(n, k, b):\n",
    "    prior = pow(k, n) # k, -n\n",
    "    v = 0\n",
    "    for i in range(1,min(n, k)+1):\n",
    "        v = v + c_bell(i, n) * g4(i, b, k/b)\n",
    "    v_log = math.log2(v)\n",
    "    prior_log = math.log2(prior)\n",
    "    r_log = v_log - prior_log\n",
    "    r = pow(2, r_log)\n",
    "    return r"
   ]
  },
  {
   "cell_type": "code",
   "execution_count": 36,
   "metadata": {},
   "outputs": [
    {
     "name": "stdout",
     "output_type": "stream",
     "text": [
      "0.1952279452234506\n"
     ]
    }
   ],
   "source": [
    "print(big_cat4(10, 8, 4))"
   ]
  },
  {
   "cell_type": "markdown",
   "metadata": {},
   "source": [
    "## Graphs"
   ]
  },
  {
   "cell_type": "code",
   "execution_count": 9,
   "metadata": {},
   "outputs": [],
   "source": [
    "import matplotlib as mpl\n",
    "from matplotlib.ticker import MaxNLocator\n",
    "font_choice = 14\n",
    "plt.rcParams.update(plt.rcParamsDefault)\n",
    "rc_fonts = {\n",
    "    \"text.usetex\": True,\n",
    "    \"font.size\": font_choice,\n",
    "    'mathtext.default': 'regular',\n",
    "    'axes.titlesize': font_choice,\n",
    "    \"axes.labelsize\": font_choice,\n",
    "    \"legend.fontsize\": font_choice,\n",
    "    \"xtick.labelsize\": font_choice,\n",
    "    \"ytick.labelsize\": font_choice,\n",
    "    'figure.titlesize': font_choice,\n",
    "    'figure.figsize': (8,5.25),\n",
    "    'text.latex.preamble': [r'\\usepackage{amsmath,nicefrac, sansmath}', \n",
    "                            r'\\sansmath'],\n",
    "    \"font.family\": \"sans-serif\",#\"font.sans-serif\": \"computer modern\",\n",
    "    }\n",
    "mpl.rcParams.update(rc_fonts)"
   ]
  },
  {
   "cell_type": "code",
   "execution_count": 24,
   "metadata": {},
   "outputs": [],
   "source": [
    "def df_bucket(n, k, M): #M is df matrix\n",
    "    b_list = [2, 4, 8, 16, 32, 64, 128, 256, 512, 1024]\n",
    "    bit_list = [1, 2, 3, 4, 5, 6, 7, 8, 9, 10]\n",
    "    prior_list = []\n",
    "    postIdeal_list = []\n",
    "    postCLWW_list = []\n",
    "    for b in b_list:\n",
    "        prior = pow(1/b, n)\n",
    "        prior_list.append(prior)\n",
    "        clww = uni_ore_clww_bayes(n, b, M)  # we plug b in for k for clww bayes\n",
    "        postCLWW_list.append(clww)\n",
    "        ideal = big_cat4(n, k, b) #converts to log bc overflow error\n",
    "        postIdeal_list.append(ideal)\n",
    "    df = pd.DataFrame(\n",
    "        {'b':b_list,\n",
    "         'bits': bit_list,\n",
    "         'prior':prior_list,\n",
    "         'postIdeal':postIdeal_list,\n",
    "         'postCLWW': postCLWW_list,      \n",
    "        }\n",
    "    )\n",
    "    return df"
   ]
  },
  {
   "cell_type": "code",
   "execution_count": 11,
   "metadata": {},
   "outputs": [],
   "source": [
    "M = report_number(1024, 1024)"
   ]
  },
  {
   "cell_type": "markdown",
   "metadata": {},
   "source": [
    "took a while to run"
   ]
  },
  {
   "cell_type": "code",
   "execution_count": 37,
   "metadata": {},
   "outputs": [],
   "source": [
    "n = 1000\n",
    "k = 1024\n",
    "df_buck = df_bucket(n, k, M)"
   ]
  },
  {
   "cell_type": "code",
   "execution_count": 38,
   "metadata": {},
   "outputs": [],
   "source": [
    "df_buck.to_csv(r'data\\buck_n1000_k1024.csv', index = None, header=True)"
   ]
  },
  {
   "cell_type": "code",
   "execution_count": null,
   "metadata": {},
   "outputs": [],
   "source": [
    "B1k = pd.read_csv(r'data\\buck_n1000_k1024.csv')"
   ]
  },
  {
   "cell_type": "code",
   "execution_count": 40,
   "metadata": {},
   "outputs": [],
   "source": [
    "def graph_it_bucket(df):\n",
    "    ax = plt.figure().gca()\n",
    "    #plt.plot('bits', 'prior', \n",
    "             #data=df,\n",
    "             #label='prior')\n",
    "    plt.plot('bits', 'postIdeal',\n",
    "             color='green',\n",
    "             data=df,\n",
    "             linestyle='--',\n",
    "             marker='', \n",
    "             label=\"Ideal\")\n",
    "    plt.plot('bits', 'postCLWW',\n",
    "             color='red',\n",
    "             data=df,\n",
    "             linestyle='dotted',\n",
    "             marker='', \n",
    "             label=\"CLWW\")\n",
    "    plt.xlabel('bits')\n",
    "    plt.xticks(df['bits'])\n",
    "    #plt.xlim(left = 0, right = s_range+1)\n",
    "    plt.gca().invert_xaxis()\n",
    "    plt.ylabel('g-vulnerability')\n",
    "    plt.ylim(bottom=-.1, top = 1)\n",
    "    \n",
    "    plt.title('CLWW vs Ideal ORE Bucket vuln., n = 1000, k = 1024')\n",
    "    plt.legend(loc='upper left') # legend adjusted so it doesn't run into annotations\n",
    "    plt.show()\n",
    "    plt.close()"
   ]
  },
  {
   "cell_type": "code",
   "execution_count": 41,
   "metadata": {},
   "outputs": [
    {
     "data": {
      "image/png": "[encoded data removed]",
      "text/plain": [
       "<Figure size 800x525 with 1 Axes>"
      ]
     },
     "metadata": {},
     "output_type": "display_data"
    }
   ],
   "source": [
    "graph_it_bucket(df_buck)"
   ]
  },
  {
   "cell_type": "markdown",
   "metadata": {},
   "source": [
    "OLD  and small values, calcualted manually by Geoff"
   ]
  },
  {
   "cell_type": "code",
   "execution_count": 8,
   "metadata": {},
   "outputs": [],
   "source": [
    "s_list = [2, 4, 8, 16, 32]\n",
    "b_list = [1, 2, 3, 4, 5]\n",
    "Ideal_list = [738481/2097152, 347761/4194304, 48601/8388608, 4501/16777216, 541/33554432]\n",
    "CLWW_list = []\n",
    "n = 5\n",
    "k = 2\n",
    "clww = uni_ore_clww_bayes(n, k, M)\n",
    "CLWW_list.append(clww)\n",
    "k = 4\n",
    "clww = uni_ore_clww_bayes(n, k, M)\n",
    "CLWW_list.append(clww)\n",
    "k = 8\n",
    "clww = uni_ore_clww_bayes(n, k, M)\n",
    "CLWW_list.append(clww)\n",
    "k = 16\n",
    "clww = uni_ore_clww_bayes(n, k, M)\n",
    "CLWW_list.append(clww)\n",
    "k = 32\n",
    "clww = uni_ore_clww_bayes(n, k, M)\n",
    "CLWW_list.append(clww)\n",
    "s_df = pd.DataFrame(\n",
    "        {'s':s_list,\n",
    "         'b':b_list, \n",
    "         'postIdeal':Ideal_list,\n",
    "         'postCLWW': CLWW_list\n",
    "        }\n",
    "    )"
   ]
  },
  {
   "cell_type": "code",
   "execution_count": 9,
   "metadata": {},
   "outputs": [
    {
     "data": {
      "text/html": [
       "<div>\n",
       "<style scoped>\n",
       "    .dataframe tbody tr th:only-of-type {\n",
       "        vertical-align: middle;\n",
       "    }\n",
       "\n",
       "    .dataframe tbody tr th {\n",
       "        vertical-align: top;\n",
       "    }\n",
       "\n",
       "    .dataframe thead th {\n",
       "        text-align: right;\n",
       "    }\n",
       "</style>\n",
       "<table border=\"1\" class=\"dataframe\">\n",
       "  <thead>\n",
       "    <tr style=\"text-align: right;\">\n",
       "      <th></th>\n",
       "      <th>s</th>\n",
       "      <th>b</th>\n",
       "      <th>postIdeal</th>\n",
       "      <th>postCLWW</th>\n",
       "    </tr>\n",
       "  </thead>\n",
       "  <tbody>\n",
       "    <tr>\n",
       "      <th>0</th>\n",
       "      <td>2</td>\n",
       "      <td>1</td>\n",
       "      <td>0.3521351814</td>\n",
       "      <td>31/32</td>\n",
       "    </tr>\n",
       "    <tr>\n",
       "      <th>1</th>\n",
       "      <td>4</td>\n",
       "      <td>2</td>\n",
       "      <td>0.0829126835</td>\n",
       "      <td>601/1024</td>\n",
       "    </tr>\n",
       "    <tr>\n",
       "      <th>2</th>\n",
       "      <td>8</td>\n",
       "      <td>3</td>\n",
       "      <td>0.0057936907</td>\n",
       "      <td>4351/32768</td>\n",
       "    </tr>\n",
       "    <tr>\n",
       "      <th>3</th>\n",
       "      <td>16</td>\n",
       "      <td>4</td>\n",
       "      <td>0.0002682805</td>\n",
       "      <td>16801/1048576</td>\n",
       "    </tr>\n",
       "    <tr>\n",
       "      <th>4</th>\n",
       "      <td>32</td>\n",
       "      <td>5</td>\n",
       "      <td>0.0000161231</td>\n",
       "      <td>46351/33554432</td>\n",
       "    </tr>\n",
       "  </tbody>\n",
       "</table>\n",
       "</div>"
      ],
      "text/plain": [
       "    s  b     postIdeal        postCLWW\n",
       "0   2  1  0.3521351814           31/32\n",
       "1   4  2  0.0829126835        601/1024\n",
       "2   8  3  0.0057936907      4351/32768\n",
       "3  16  4  0.0002682805   16801/1048576\n",
       "4  32  5  0.0000161231  46351/33554432"
      ]
     },
     "execution_count": 9,
     "metadata": {},
     "output_type": "execute_result"
    }
   ],
   "source": [
    "s_df"
   ]
  },
  {
   "cell_type": "code",
   "execution_count": 11,
   "metadata": {},
   "outputs": [
    {
     "data": {
      "image/png": "[encoded data removed]",
      "text/plain": [
       "<Figure size 800x525 with 1 Axes>"
      ]
     },
     "metadata": {},
     "output_type": "display_data"
    }
   ],
   "source": [
    "graph_it_bucket(s_df)"
   ]
  },
  {
   "cell_type": "markdown",
   "metadata": {},
   "source": [
    "## Lower Bound for CLWW\n",
    "\n",
    "Coupon Adversary vs Bucket adversary"
   ]
  },
  {
   "cell_type": "code",
   "execution_count": 12,
   "metadata": {},
   "outputs": [],
   "source": [
    "def Harmonic(h):\n",
    "    i_sum = 0\n",
    "    for i in range(1, h+1):\n",
    "        i_sum = i_sum + 1/i\n",
    "    return i_sum"
   ]
  },
  {
   "cell_type": "code",
   "execution_count": 13,
   "metadata": {},
   "outputs": [],
   "source": [
    "def b1(n, h):\n",
    "    val = (h * Harmonic(h))/(n+1)\n",
    "    if val < 1:\n",
    "        return 1 - val\n",
    "    else:\n",
    "        return 0"
   ]
  },
  {
   "cell_type": "code",
   "execution_count": 14,
   "metadata": {},
   "outputs": [],
   "source": [
    "M = report_number(1000, 1000)"
   ]
  },
  {
   "cell_type": "code",
   "execution_count": 15,
   "metadata": {},
   "outputs": [],
   "source": [
    "def df_bounds(n_range, h, k, M): #M is df matrix\n",
    "    n = 0\n",
    "    n_list = []\n",
    "    b1_list = []\n",
    "    CLWW_list = []\n",
    "    for x in range(n_range):\n",
    "        n = n + 1\n",
    "        n_list.append(n)\n",
    "        clww = uni_ore_clww_bayes(n, k, M) #only dif\n",
    "        CLWW_list.append(clww)\n",
    "        b1v = b1(n,h)\n",
    "        b1_list.append(b1v)\n",
    "    df = pd.DataFrame(\n",
    "        {'n':n_list,\n",
    "         'CLWW': CLWW_list, \n",
    "         'b1_v': b1_list,\n",
    "        }\n",
    "    )\n",
    "    return df"
   ]
  },
  {
   "cell_type": "code",
   "execution_count": 16,
   "metadata": {},
   "outputs": [],
   "source": [
    "n_range = 1000\n",
    "h = 32\n",
    "k = 32\n",
    "df_bounds = df_bounds(n_range, h, k, M)"
   ]
  },
  {
   "cell_type": "code",
   "execution_count": 38,
   "metadata": {},
   "outputs": [],
   "source": [
    "def graph_it_clww_bound(n_range, k, df):\n",
    "    ax = plt.figure().gca()\n",
    "    plt.plot('n', 'CLWW',\n",
    "             color='red',\n",
    "             data=df,\n",
    "             linestyle='dotted',\n",
    "             marker='', \n",
    "             label=\"CLWW Bucket\")\n",
    "    plt.plot('n', 'b1_v',\n",
    "             color='green',\n",
    "             data=df,\n",
    "             linestyle='--',\n",
    "             marker='', \n",
    "             label=\"CLWW Coupon\")\n",
    "    ax.xaxis.set_major_locator(MaxNLocator(integer=True))\n",
    "    plt.xlabel('n')\n",
    "    plt.xlim(left = 0, right = n_range+1)\n",
    "    plt.ylabel('g vulnerability')\n",
    "    plt.ylim(bottom=-.1, top = 1)\n",
    "    \n",
    "    plt.title('CLWW Bucket vulnerability, s = {}'.format(k))\n",
    "    plt.legend(loc='lower right')\n",
    "    plt.show()\n",
    "    plt.close()"
   ]
  },
  {
   "cell_type": "code",
   "execution_count": 39,
   "metadata": {},
   "outputs": [
    {
     "data": {
      "image/png": "[encoded data removed]",
      "text/plain": [
       "<Figure size 800x525 with 1 Axes>"
      ]
     },
     "metadata": {},
     "output_type": "display_data"
    }
   ],
   "source": [
    "graph_it_clww_bound(n_range, k, df_bounds)"
   ]
  },
  {
   "cell_type": "markdown",
   "metadata": {},
   "source": [
    "#### OLD Work"
   ]
  },
  {
   "cell_type": "markdown",
   "metadata": {},
   "source": [
    "Catuscia's original write up"
   ]
  },
  {
   "cell_type": "code",
   "execution_count": 20,
   "metadata": {},
   "outputs": [],
   "source": [
    "def g(s, i, h):\n",
    "    f = math.floor(i/h)\n",
    "    m = i % h\n",
    "    left = pow( (scipy.special.comb(s, f+1, exact = True)) / pow(s,(f+1)), m)\n",
    "    right = pow(((scipy.special.comb(s, f, exact = True))/pow(s,f)), (h-m))\n",
    "    return left * right"
   ]
  },
  {
   "cell_type": "code",
   "execution_count": 33,
   "metadata": {},
   "outputs": [],
   "source": [
    "def ideal_bucket_pv(n, h, s):\n",
    "    prior = 1/pow(h, n)\n",
    "    v = 0\n",
    "    for i in range(1, n+1):\n",
    "        v = v + 1/(pow(s, n-i)) * g(s, i, h) * c_bell(i, n)\n",
    "    return v * prior"
   ]
  },
  {
   "cell_type": "code",
   "execution_count": 25,
   "metadata": {},
   "outputs": [
    {
     "name": "stdout",
     "output_type": "stream",
     "text": [
      "0.6015625\n"
     ]
    }
   ],
   "source": [
    "print(ideal_bucket_pv(4, 2, 2))"
   ]
  },
  {
   "cell_type": "markdown",
   "metadata": {},
   "source": [
    "Catuscia's Upper Bound for Ideal"
   ]
  },
  {
   "cell_type": "code",
   "execution_count": 37,
   "metadata": {},
   "outputs": [],
   "source": [
    "def old_g(i, h):\n",
    "    f = math.floor(i/h)\n",
    "    m = i % h\n",
    "    return pow((math.factorial(f + 1)), m) * pow(math.factorial(f), (k-m))"
   ]
  },
  {
   "cell_type": "code",
   "execution_count": 73,
   "metadata": {},
   "outputs": [],
   "source": [
    "def upper(n, h, s):\n",
    "    i_sum = 0\n",
    "    for i in range(1, n+1):\n",
    "        u_sum = 0\n",
    "        for u in range(0, i+1):\n",
    "            u_sum = u_sum + pow(-1, (i-u)) * scipy.special.comb(i, u, exact = True) * pow(u, n)\n",
    "        i_sum = i_sum + ( (1/(pow(s, (n-i)))) * (1/(g(i,h))) * u_sum)\n",
    "    v = i_sum / (pow(h,n))\n",
    "    return v"
   ]
  },
  {
   "cell_type": "code",
   "execution_count": 59,
   "metadata": {},
   "outputs": [
    {
     "name": "stdout",
     "output_type": "stream",
     "text": [
      "0.17822265625\n"
     ]
    }
   ],
   "source": [
    "print(upper(4, 4, 2)) # matches 365/2048 per C's code"
   ]
  }
 ],
 "metadata": {
  "kernelspec": {
   "display_name": "Python 3",
   "language": "python",
   "name": "python3"
  },
  "language_info": {
   "codemirror_mode": {
    "name": "ipython",
    "version": 3
   },
   "file_extension": ".py",
   "mimetype": "text/x-python",
   "name": "python",
   "nbconvert_exporter": "python",
   "pygments_lexer": "ipython3",
   "version": "3.6.7"
  }
 },
 "nbformat": 4,
 "nbformat_minor": 2
}
