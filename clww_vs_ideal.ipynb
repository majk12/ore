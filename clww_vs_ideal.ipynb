{
 "cells": [
  {
   "cell_type": "markdown",
   "metadata": {},
   "source": [
    "# CLWW vs Ideal ORE"
   ]
  },
  {
   "cell_type": "code",
   "execution_count": 59,
   "metadata": {},
   "outputs": [],
   "source": [
    "import collections\n",
    "import math\n",
    "from math import floor, log2\n",
    "import numpy as np\n",
    "import pandas as pd\n",
    "from scipy.special import perm # for nPk \n",
    "from sympy.functions.combinatorial.numbers import stirling\n",
    "from decimal import Decimal\n",
    "import matplotlib.pyplot as plt \n",
    "pd.set_option('precision', 10)\n",
    "%matplotlib inline"
   ]
  },
  {
   "cell_type": "markdown",
   "metadata": {},
   "source": [
    "## r(i, k) table"
   ]
  },
  {
   "cell_type": "code",
   "execution_count": 3,
   "metadata": {},
   "outputs": [],
   "source": [
    "#f[n] = f[n-1] + f[n-2]\n",
    "def fib(n):\n",
    "    s = [1, 1]\n",
    "    if n == 1:\n",
    "        return [1]\n",
    "    elif n == 2: \n",
    "        return [1, 1]\n",
    "    else:\n",
    "        for i in range(n):\n",
    "            s.append(s[-1] + s[-2])\n",
    "        return s"
   ]
  },
  {
   "cell_type": "code",
   "execution_count": 4,
   "metadata": {},
   "outputs": [
    {
     "name": "stdout",
     "output_type": "stream",
     "text": [
      "[1, 1, 2, 3, 5, 8, 13, 21, 34, 55, 89, 144]\n"
     ]
    }
   ],
   "source": [
    "print(fib(10))"
   ]
  },
  {
   "cell_type": "code",
   "execution_count": 35,
   "metadata": {},
   "outputs": [],
   "source": [
    "def print_array(a):\n",
    "    k = 0\n",
    "    for l in a:\n",
    "        print(\"k: \", k , l)\n",
    "        k = k + 1"
   ]
  },
  {
   "cell_type": "code",
   "execution_count": 53,
   "metadata": {},
   "outputs": [],
   "source": [
    "def trailing_zero(n):\n",
    "    x = int(bin(n)[2:])\n",
    "    count = 0\n",
    "    while ((x & 1 ) == 0):\n",
    "        x = x >> 1\n",
    "        count += 1\n",
    "    return count"
   ]
  },
  {
   "cell_type": "code",
   "execution_count": 54,
   "metadata": {},
   "outputs": [
    {
     "name": "stdout",
     "output_type": "stream",
     "text": [
      "0b1010\n",
      "1\n"
     ]
    }
   ],
   "source": [
    "bt = bin(10)\n",
    "print(bt)\n",
    "print(trailing_zero(10))"
   ]
  },
  {
   "cell_type": "code",
   "execution_count": 61,
   "metadata": {},
   "outputs": [],
   "source": [
    "def report_number(I, K):\n",
    "    r = [[0]* (I + 1) for _ in range(K+1)]\n",
    "    r[1][1] = 1\n",
    "    for k in range(2, K):\n",
    "        b = trailing_zero(k-1)\n",
    "        for i in range(1, I):\n",
    "            r[i][k] = r[i][k-1] + r[i-1][k-1] - r[i-1][k-1- int(math.pow(2,b))]\n",
    "    return r"
   ]
  },
  {
   "cell_type": "code",
   "execution_count": 62,
   "metadata": {},
   "outputs": [
    {
     "name": "stdout",
     "output_type": "stream",
     "text": [
      "k:  0 [0, 0, 0, 0, 0, 0, 0, 0, 0, 0, 0, 0, 0, 0, 0, 0, 0, 0, 0, 0, 0, 0, 0, 0, 0, 0, 0, 0, 0, 0, 0, 0, 0]\n",
      "k:  1 [0, 1, 1, 1, 1, 1, 1, 1, 1, 1, 1, 1, 1, 1, 1, 1, 1, 1, 1, 1, 1, 1, 1, 1, 1, 1, 1, 1, 1, 1, 1, 1, 0]\n",
      "k:  2 [0, 0, 1, 2, 2, 3, 3, 3, 3, 4, 4, 4, 4, 4, 4, 4, 4, 5, 5, 5, 5, 5, 5, 5, 5, 5, 5, 5, 5, 5, 5, 5, 0]\n",
      "k:  3 [0, 0, 0, 1, 2, 4, 5, 6, 6, 9, 10, 11, 11, 12, 12, 12, 12, 16, 17, 18, 18, 19, 19, 19, 19, 20, 20, 20, 20, 20, 20, 20, 0]\n",
      "k:  4 [0, 0, 0, 0, 1, 3, 5, 8, 9, 15, 18, 22, 23, 28, 29, 30, 30, 42, 46, 51, 52, 58, 59, 60, 60, 67, 68, 69, 69, 70, 70, 70, 0]\n",
      "k:  5 [0, 0, 0, 0, 0, 1, 3, 7, 10, 19, 25, 34, 38, 52, 57, 63, 64, 94, 106, 122, 127, 149, 155, 162, 163, 193, 200, 208, 209, 218, 219, 220, 0]\n",
      "k:  6 [0, 0, 0, 0, 0, 0, 1, 4, 8, 18, 27, 42, 51, 79, 93, 112, 118, 182, 212, 254, 270, 333, 355, 383, 390, 489, 519, 556, 564, 610, 619, 629, 0]\n",
      "k:  7 [0, 0, 0, 0, 0, 0, 0, 1, 4, 12, 22, 41, 56, 99, 127, 169, 188, 306, 370, 464, 506, 658, 721, 806, 834, 1106, 1205, 1334, 1371, 1545, 1591, 1646, 0]\n",
      "k:  8 [0, 0, 0, 0, 0, 0, 0, 0, 1, 5, 13, 31, 50, 102, 145, 216, 258, 446, 564, 746, 840, 1158, 1310, 1525, 1610, 2256, 2528, 2899, 3028, 3565, 3739, 3959, 0]\n",
      "k:  9 [0, 0, 0, 0, 0, 0, 0, 0, 0, 1, 5, 17, 35, 84, 136, 231, 302, 560, 748, 1054, 1236, 1818, 2136, 2606, 2821, 4173, 4819, 5737, 6108, 7526, 8063, 8774, 0]\n",
      "k:  10 [0, 0, 0, 0, 0, 0, 0, 0, 0, 0, 1, 6, 18, 53, 102, 203, 298, 600, 858, 1304, 1610, 2544, 3126, 4026, 4496, 7015, 8367, 10365, 11283, 14570, 15988, 17943, 0]\n",
      "k:  11 [0, 0, 0, 0, 0, 0, 0, 0, 0, 0, 0, 1, 6, 24, 59, 143, 244, 542, 844, 1404, 1850, 3162, 4096, 5612, 6512, 10710, 13229, 17100, 19098, 25885, 29172, 33877, 0]\n",
      "k:  12 [0, 0, 0, 0, 0, 0, 0, 0, 0, 0, 0, 0, 1, 7, 25, 78, 162, 406, 704, 1304, 1864, 3470, 4782, 7028, 8544, 14812, 19010, 25727, 29598, 42184, 48971, 59045, 0]\n",
      "k:  13 [0, 0, 0, 0, 0, 0, 0, 0, 0, 0, 0, 0, 0, 1, 7, 31, 84, 246, 490, 1032, 1632, 3334, 4940, 7858, 10104, 18486, 24754, 35220, 41937, 62991, 75577, 94950, 0]\n",
      "k:  14 [0, 0, 0, 0, 0, 0, 0, 0, 0, 0, 0, 0, 0, 0, 1, 8, 32, 116, 278, 684, 1226, 2774, 4476, 7784, 10702, 20722, 29104, 43754, 54220, 86053, 107107, 140747, 0]\n",
      "k:  15 [0, 0, 0, 0, 0, 0, 0, 0, 0, 0, 0, 0, 0, 0, 0, 1, 8, 40, 124, 370, 776, 1970, 3518, 6768, 10076, 20746, 30766, 49168, 63818, 107336, 139169, 192056, 0]\n",
      "k:  16 [0, 0, 0, 0, 0, 0, 0, 0, 0, 0, 0, 0, 0, 0, 0, 0, 1, 9, 41, 157, 403, 1171, 2365, 5107, 8357, 18425, 29095, 49785, 68187, 121929, 165447, 240798, 0]\n",
      "k:  17 [0, 0, 0, 0, 0, 0, 0, 0, 0, 0, 0, 0, 0, 0, 0, 0, 0, 1, 9, 49, 165, 567, 1335, 3297, 6039, 14395, 24463, 45201, 65891, 125721, 179463, 276723, 0]\n",
      "k:  18 [0, 0, 0, 0, 0, 0, 0, 0, 0, 0, 0, 0, 0, 0, 0, 0, 0, 0, 1, 10, 50, 215, 617, 1787, 3749, 9788, 18144, 36568, 57306, 117158, 176988, 290560, 0]\n",
      "k:  19 [0, 0, 0, 0, 0, 0, 0, 0, 0, 0, 0, 0, 0, 0, 0, 0, 0, 0, 0, 1, 10, 60, 225, 792, 1962, 5711, 11750, 26145, 44569, 98126, 157978, 277660, 0]\n",
      "k:  20 [0, 0, 0, 0, 0, 0, 0, 0, 0, 0, 0, 0, 0, 0, 0, 0, 0, 0, 0, 0, 1, 11, 61, 276, 843, 2805, 6554, 16342, 30737, 73344, 126901, 240310, 0]\n",
      "k:  21 [0, 0, 0, 0, 0, 0, 0, 0, 0, 0, 0, 0, 0, 0, 0, 0, 0, 0, 0, 0, 0, 1, 11, 71, 286, 1129, 3091, 8802, 18590, 48484, 91091, 187255, 0]\n",
      "k:  22 [0, 0, 0, 0, 0, 0, 0, 0, 0, 0, 0, 0, 0, 0, 0, 0, 0, 0, 0, 0, 0, 0, 1, 12, 72, 358, 1201, 4006, 9717, 28021, 57915, 130416, 0]\n",
      "k:  23 [0, 0, 0, 0, 0, 0, 0, 0, 0, 0, 0, 0, 0, 0, 0, 0, 0, 0, 0, 0, 0, 0, 0, 1, 12, 84, 370, 1499, 4304, 13949, 32253, 80451, 0]\n",
      "k:  24 [0, 0, 0, 0, 0, 0, 0, 0, 0, 0, 0, 0, 0, 0, 0, 0, 0, 0, 0, 0, 0, 0, 0, 0, 1, 13, 85, 443, 1572, 5864, 15509, 43458, 0]\n",
      "k:  25 [0, 0, 0, 0, 0, 0, 0, 0, 0, 0, 0, 0, 0, 0, 0, 0, 0, 0, 0, 0, 0, 0, 0, 0, 0, 1, 13, 97, 455, 2026, 6318, 20255, 0]\n",
      "k:  26 [0, 0, 0, 0, 0, 0, 0, 0, 0, 0, 0, 0, 0, 0, 0, 0, 0, 0, 0, 0, 0, 0, 0, 0, 0, 0, 1, 14, 98, 553, 2124, 7987, 0]\n",
      "k:  27 [0, 0, 0, 0, 0, 0, 0, 0, 0, 0, 0, 0, 0, 0, 0, 0, 0, 0, 0, 0, 0, 0, 0, 0, 0, 0, 0, 1, 14, 112, 567, 2593, 0]\n",
      "k:  28 [0, 0, 0, 0, 0, 0, 0, 0, 0, 0, 0, 0, 0, 0, 0, 0, 0, 0, 0, 0, 0, 0, 0, 0, 0, 0, 0, 0, 1, 15, 113, 666, 0]\n",
      "k:  29 [0, 0, 0, 0, 0, 0, 0, 0, 0, 0, 0, 0, 0, 0, 0, 0, 0, 0, 0, 0, 0, 0, 0, 0, 0, 0, 0, 0, 0, 1, 15, 127, 0]\n",
      "k:  30 [0, 0, 0, 0, 0, 0, 0, 0, 0, 0, 0, 0, 0, 0, 0, 0, 0, 0, 0, 0, 0, 0, 0, 0, 0, 0, 0, 0, 0, 0, 1, 16, 0]\n",
      "k:  31 [0, 0, 0, 0, 0, 0, 0, 0, 0, 0, 0, 0, 0, 0, 0, 0, 0, 0, 0, 0, 0, 0, 0, 0, 0, 0, 0, 0, 0, 0, 0, 1, 0]\n",
      "k:  32 [0, 0, 0, 0, 0, 0, 0, 0, 0, 0, 0, 0, 0, 0, 0, 0, 0, 0, 0, 0, 0, 0, 0, 0, 0, 0, 0, 0, 0, 0, 0, 0, 0]\n"
     ]
    }
   ],
   "source": [
    "i = 32\n",
    "k = 32\n",
    "a = report_number(i, k)\n",
    "print_array(a)"
   ]
  },
  {
   "cell_type": "markdown",
   "metadata": {},
   "source": [
    "## CLWW PBV"
   ]
  },
  {
   "cell_type": "markdown",
   "metadata": {},
   "source": [
    "__uni_ore_clww_bayes(n, k)__ calculates the posterior Bayes vulnerability for CLWW Order Revealing Encryption (ORE). Only works on a uniform prior\n",
    "\n",
    "$$ V_1 [C \\triangleright \\pi ]  =  \\frac{\\sum_{i=1}^{min(n, k)} \\text{stirling2}(n, i)\\times i! \\times \\text{r}(i, k)}{\\sum_{i=1}^{min(n, k)} \\text{stirling2}(n, i)\\times kPi}  $$\n",
    "\n",
    "The numerator is larger than ideal ORE (more channel outputs)\n",
    "\n",
    "The denominator is the same as ideal ORE (same number of channel inputs)"
   ]
  },
  {
   "cell_type": "code",
   "execution_count": null,
   "metadata": {},
   "outputs": [],
   "source": [
    "def uni_ore_clww_bayes(n, k, M): # M is df matrix, 1 row\n",
    "    outputs = 0\n",
    "    inputs = 0\n",
    "    for i in range(n):\n",
    "        if k < i+1:\n",
    "            break\n",
    "        s2 = stirling(n, i+1)\n",
    "        # need to check the indexing on new M\n",
    "        outputs = outputs + (math.factorial(i+1) * s2 * M.iloc[0, i+1])\n",
    "        inputs = inputs + (perm(k, i+1) * s2)\n",
    "    return outputs / inputs"
   ]
  },
  {
   "cell_type": "markdown",
   "metadata": {},
   "source": [
    "## IDEAL PBV"
   ]
  },
  {
   "cell_type": "markdown",
   "metadata": {},
   "source": [
    "__uni_ore_bayes__ calculates the posterior Bayes vulnerability for ideal Order Revealing Encryption (ORE). Only works on a uniform prior for now. \n",
    "\n",
    "Number of channel outputs over number of channel inputs\n",
    "\n",
    "$$ V_1 [C \\triangleright \\pi ]  =  \\frac{\\sum_{i=1}^{min(n, k)} \\text{stirling2}(n, i)\\times i!}{\\sum_{i=1}^{min(n, k)} \\text{stirling2}(n, i)\\times kPi}  $$\n",
    "\n",
    "\n",
    "outputs:= channel outputs (ways to order integer partitions), the Fubini numbers (ordered Bell numbers) a sum of the stirling number of the second kind (n, i) times i!\n",
    "\n",
    "inputs := channel inputs, a sum of Stirling numbers of the second kind (n, i) times kPi. (equals k^n)\n",
    "This total number of channel rows can be calculated by k^n but this triggers an overflow in Python."
   ]
  },
  {
   "cell_type": "code",
   "execution_count": null,
   "metadata": {},
   "outputs": [],
   "source": [
    "def uni_ore_bayes(n, k):\n",
    "    outputs = 0\n",
    "    inputs = 0\n",
    "    for c in range(n):\n",
    "        if k < c+1:\n",
    "            break\n",
    "        s2 = stirling(n, c+1)\n",
    "        outputs = outputs + (math.factorial(c+1) * s2)\n",
    "        inputs = inputs + (perm(k, c+1) * s2)\n",
    "    return outputs / inputs"
   ]
  },
  {
   "cell_type": "markdown",
   "metadata": {},
   "source": [
    "## IDEAL VS CLWW"
   ]
  },
  {
   "cell_type": "markdown",
   "metadata": {},
   "source": [
    "### General Graph Code"
   ]
  },
  {
   "cell_type": "code",
   "execution_count": null,
   "metadata": {},
   "outputs": [],
   "source": [
    "import matplotlib as mpl\n",
    "from matplotlib.ticker import MaxNLocator\n",
    "font_choice = 14\n",
    "plt.rcParams.update(plt.rcParamsDefault)\n",
    "rc_fonts = {\n",
    "    \"text.usetex\": True,\n",
    "    \"font.size\": font_choice,\n",
    "    'mathtext.default': 'regular',\n",
    "    'axes.titlesize': font_choice,\n",
    "    \"axes.labelsize\": font_choice,\n",
    "    \"legend.fontsize\": font_choice,\n",
    "    \"xtick.labelsize\": font_choice,\n",
    "    \"ytick.labelsize\": font_choice,\n",
    "    'figure.titlesize': font_choice,\n",
    "    'figure.figsize': (8,5.25),\n",
    "    'text.latex.preamble': [r'\\usepackage{amsmath,nicefrac, sansmath}', \n",
    "                            r'\\sansmath'],\n",
    "    \"font.family\": \"sans-serif\",#\"font.sans-serif\": \"computer modern\",\n",
    "    }\n",
    "mpl.rcParams.update(rc_fonts)"
   ]
  },
  {
   "cell_type": "markdown",
   "metadata": {},
   "source": [
    "### Function of n"
   ]
  },
  {
   "cell_type": "markdown",
   "metadata": {},
   "source": [
    "#### Function of n, df"
   ]
  },
  {
   "cell_type": "code",
   "execution_count": null,
   "metadata": {},
   "outputs": [],
   "source": [
    "def df_uni_ore_idealvsCLWW_bayes(n_range, k, M): #M is df matrix\n",
    "    n = 0\n",
    "    n_list = []\n",
    "    prior_list = []\n",
    "    postIdeal_list = []\n",
    "    postCLWW_list = []\n",
    "    for x in range(n_range):\n",
    "        n = n + 1\n",
    "        n_list.append(n)\n",
    "        prior = pow(1/k, n)\n",
    "        prior_list.append(prior)\n",
    "        clww = uni_ore_clww_bayes(n, k, M) #only dif\n",
    "        postCLWW_list.append(clww)\n",
    "        ideal = uni_ore_bayes(n, k)\n",
    "        postIdeal_list.append(ideal)\n",
    "    df = pd.DataFrame(\n",
    "        {'n':n_list,\n",
    "         'prior':prior_list,\n",
    "         'postIdeal':postIdeal_list,\n",
    "         'postCLWW': postCLWW_list\n",
    "        }\n",
    "    )\n",
    "    return df"
   ]
  },
  {
   "cell_type": "markdown",
   "metadata": {},
   "source": [
    "#### Function of n, graph code"
   ]
  },
  {
   "cell_type": "code",
   "execution_count": null,
   "metadata": {},
   "outputs": [],
   "source": [
    "def graph_it_vs(n_range, k, df):\n",
    "    ax = plt.figure().gca()\n",
    "    plt.plot('n', 'prior', \n",
    "             data=df,\n",
    "             label=\"prior\")\n",
    "    plt.plot('n', 'postIdeal',\n",
    "             color='green',\n",
    "             data=df,\n",
    "             linestyle='--',\n",
    "             marker='', \n",
    "             label=\"Ideal\")\n",
    "    plt.plot('n', 'postCLWW',\n",
    "             color='red',\n",
    "             data=df,\n",
    "             linestyle='dotted',\n",
    "             marker='', \n",
    "             label=\"CLWW\")\n",
    "    ax.xaxis.set_major_locator(MaxNLocator(integer=True))\n",
    "    plt.xlabel('n')\n",
    "    plt.xlim(left = 0, right = n_range+1)\n",
    "    plt.ylabel('Bayes vulnerability')\n",
    "    plt.ylim(bottom=-.1, top = 1)\n",
    "    \n",
    "    plt.title('CLWW vs Ideal ORE Bayes vulnerability, k = {}'.format(k))\n",
    "    plt.legend(loc='upper left') # legend adjusted so it doesn't run into annotations\n",
    "    plt.show()\n",
    "    plt.close()"
   ]
  },
  {
   "cell_type": "markdown",
   "metadata": {},
   "source": [
    "#### Function of n, graph"
   ]
  },
  {
   "cell_type": "code",
   "execution_count": null,
   "metadata": {},
   "outputs": [],
   "source": [
    "n_range =\n",
    "k = \n",
    "graph_it_vs(n_range, k, M)"
   ]
  },
  {
   "cell_type": "markdown",
   "metadata": {},
   "source": [
    "### Function of k"
   ]
  },
  {
   "cell_type": "markdown",
   "metadata": {},
   "source": [
    "#### Function of k, df"
   ]
  },
  {
   "cell_type": "markdown",
   "metadata": {},
   "source": [
    "#### Function of k, graph code"
   ]
  },
  {
   "cell_type": "markdown",
   "metadata": {},
   "source": [
    "#### Function of k, graphs"
   ]
  },
  {
   "cell_type": "markdown",
   "metadata": {},
   "source": [
    "### N and K together"
   ]
  },
  {
   "cell_type": "markdown",
   "metadata": {},
   "source": [
    "#### N and K together, df"
   ]
  },
  {
   "cell_type": "markdown",
   "metadata": {},
   "source": [
    "#### N and K together, graph code"
   ]
  },
  {
   "cell_type": "markdown",
   "metadata": {},
   "source": [
    "#### N and K together, graphs"
   ]
  },
  {
   "cell_type": "markdown",
   "metadata": {},
   "source": [
    "### k = 2n"
   ]
  },
  {
   "cell_type": "markdown",
   "metadata": {},
   "source": [
    "#### k = 2n, df"
   ]
  },
  {
   "cell_type": "markdown",
   "metadata": {},
   "source": [
    "#### k = 2n, graph code"
   ]
  },
  {
   "cell_type": "markdown",
   "metadata": {},
   "source": [
    "#### k = 2n, graphs"
   ]
  }
 ],
 "metadata": {
  "kernelspec": {
   "display_name": "Python 3",
   "language": "python",
   "name": "python3"
  },
  "language_info": {
   "codemirror_mode": {
    "name": "ipython",
    "version": 3
   },
   "file_extension": ".py",
   "mimetype": "text/x-python",
   "name": "python",
   "nbconvert_exporter": "python",
   "pygments_lexer": "ipython3",
   "version": "3.6.7"
  }
 },
 "nbformat": 4,
 "nbformat_minor": 2
}
